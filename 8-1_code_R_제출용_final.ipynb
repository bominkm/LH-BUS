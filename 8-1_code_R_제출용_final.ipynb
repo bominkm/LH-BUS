{
 "cells": [
  {
   "cell_type": "markdown",
   "id": "general-undergraduate",
   "metadata": {},
   "source": [
    "# 8. 분석"
   ]
  },
  {
   "cell_type": "markdown",
   "id": "contrary-lighter",
   "metadata": {},
   "source": [
    "## 과제2. 기존 어린이 보호구역 중 교통안전시설물 우선 설치 지역 20개소를 제시하고 각 교통안전시설물의 위치 제시\n",
    "### 8-1) 격자별 교통사고 위험지수 생성\n",
    "> - **목표:** R 프로그래밍을 사용하여 최적 회귀 모형을 선정한 뒤 회귀계수를 이용하여 **격자별 교통사고 위험지수(hazard_index2)**를 설정한다. \n",
    "> - **y: 어린이 교통 사고 횟수, X: 교통 사고 요인** \n",
    "> - **변수 선택:** 선택된 모형에서 유의수준 0.1이하의 유의한 변수를 선택한다.\n",
    "> - **모형 선택:** **y가 사고 횟수로 영과잉 자료**이므로 이전 과제에서 선택된 영과잉 음이항 모형을 사용한다.\n",
    "> - **위험 지수 설정:** **최적 모\n",
    "형의 회귀계수를 가중치로 사용**하여 격자별 교통사고 위험지수를 설정한다."
   ]
  },
  {
   "cell_type": "code",
   "execution_count": 1,
   "id": "useful-specific",
   "metadata": {},
   "outputs": [
    {
     "name": "stderr",
     "output_type": "stream",
     "text": [
      "Classes and Methods for R developed in the\n",
      "Political Science Computational Laboratory\n",
      "Department of Political Science\n",
      "Stanford University\n",
      "Simon Jackman\n",
      "hurdle and zeroinfl functions by Achim Zeileis\n",
      "\n"
     ]
    }
   ],
   "source": [
    "library(readxl)\n",
    "library(MASS)\n",
    "library(pscl)\n",
    "library(xlsx)"
   ]
  },
  {
   "cell_type": "code",
   "execution_count": 69,
   "id": "downtown-crazy",
   "metadata": {
    "collapsed": true
   },
   "outputs": [
    {
     "name": "stderr",
     "output_type": "stream",
     "text": [
      "New names:\n",
      "* `` -> ...1\n",
      "\n"
     ]
    },
    {
     "data": {
      "text/html": [
       "<table>\n",
       "<caption>A data.frame: 6 × 24</caption>\n",
       "<thead>\n",
       "\t<tr><th></th><th scope=col>...1</th><th scope=col>geometry</th><th scope=col>coord_cent</th><th scope=col>geo_cent</th><th scope=col>gid</th><th scope=col>accident_02</th><th scope=col>schoolzone_cctv_cnt_09</th><th scope=col>bump_cnt_18</th><th scope=col>barrier_23</th><th scope=col>sign_cnt_16</th><th scope=col>⋯</th><th scope=col>crosswalk_cnt_17</th><th scope=col>trafficlight_cnt_19</th><th scope=col>bus_cnt_22</th><th scope=col>road_maxspeed_23</th><th scope=col>intersection_23</th><th scope=col>building_level_down_27</th><th scope=col>sports_cnt_29</th><th scope=col>pop_fluid_810_08</th><th scope=col>school_cnt_10</th><th scope=col>conjestion_freq_25</th></tr>\n",
       "\t<tr><th></th><th scope=col>&lt;dbl&gt;</th><th scope=col>&lt;chr&gt;</th><th scope=col>&lt;chr&gt;</th><th scope=col>&lt;chr&gt;</th><th scope=col>&lt;chr&gt;</th><th scope=col>&lt;dbl&gt;</th><th scope=col>&lt;dbl&gt;</th><th scope=col>&lt;dbl&gt;</th><th scope=col>&lt;dbl&gt;</th><th scope=col>&lt;dbl&gt;</th><th scope=col>⋯</th><th scope=col>&lt;dbl&gt;</th><th scope=col>&lt;dbl&gt;</th><th scope=col>&lt;dbl&gt;</th><th scope=col>&lt;dbl&gt;</th><th scope=col>&lt;dbl&gt;</th><th scope=col>&lt;dbl&gt;</th><th scope=col>&lt;dbl&gt;</th><th scope=col>&lt;dbl&gt;</th><th scope=col>&lt;dbl&gt;</th><th scope=col>&lt;dbl&gt;</th></tr>\n",
       "</thead>\n",
       "<tbody>\n",
       "\t<tr><th scope=row>1</th><td>0</td><td>POLYGON ((127.016727045001 37.17607914622609, 127.0170100955357 37.17607914622609, 127.0170100955357 37.17630563946577, 127.016727045001 37.17630563946577, 127.016727045001 37.17607914622609))   </td><td>[127.01686857026839, 37.17619239284593]</td><td>POINT (127.0168685702684 37.17619239284593)</td><td>다사571087</td><td>0</td><td>0</td><td>0</td><td>0</td><td>0</td><td>⋯</td><td>0</td><td>0</td><td>0</td><td>0</td><td>0</td><td>0</td><td>0</td><td>0.0000000</td><td>0</td><td>0</td></tr>\n",
       "\t<tr><th scope=row>2</th><td>1</td><td>POLYGON ((127.0170100955357 37.17607914622609, 127.0172931460704 37.17607914622609, 127.0172931460704 37.17630563946577, 127.0170100955357 37.17630563946577, 127.0170100955357 37.17607914622609))</td><td>[127.01715162080306, 37.17619239284593]</td><td>POINT (127.0171516208031 37.17619239284593)</td><td>다사571087</td><td>0</td><td>0</td><td>0</td><td>0</td><td>0</td><td>⋯</td><td>0</td><td>0</td><td>0</td><td>0</td><td>0</td><td>0</td><td>0</td><td>0.0000000</td><td>0</td><td>0</td></tr>\n",
       "\t<tr><th scope=row>3</th><td>2</td><td>POLYGON ((127.0172931460704 37.17607914622609, 127.0175761966052 37.17607914622609, 127.0175761966052 37.17630563946577, 127.0172931460704 37.17630563946577, 127.0172931460704 37.17607914622609))</td><td>[127.01743467133781, 37.17619239284593]</td><td>POINT (127.0174346713378 37.17619239284593)</td><td>다사571087</td><td>0</td><td>0</td><td>0</td><td>0</td><td>0</td><td>⋯</td><td>0</td><td>0</td><td>0</td><td>0</td><td>0</td><td>0</td><td>0</td><td>0.0000000</td><td>0</td><td>0</td></tr>\n",
       "\t<tr><th scope=row>4</th><td>3</td><td>POLYGON ((127.0175761966052 37.17607914622609, 127.0178592471399 37.17607914622609, 127.0178592471399 37.17630563946577, 127.0175761966052 37.17630563946577, 127.0175761966052 37.17607914622609))</td><td>[127.01771772187256, 37.17619239284593]</td><td>POINT (127.0177177218726 37.17619239284593)</td><td>다사571087</td><td>0</td><td>0</td><td>0</td><td>0</td><td>0</td><td>⋯</td><td>0</td><td>0</td><td>0</td><td>0</td><td>0</td><td>0</td><td>0</td><td>0.0000000</td><td>0</td><td>0</td></tr>\n",
       "\t<tr><th scope=row>5</th><td>4</td><td>POLYGON ((127.016727045001 37.17630563946577, 127.0170100955357 37.17630563946577, 127.0170100955357 37.17653213270545, 127.016727045001 37.17653213270545, 127.016727045001 37.17630563946577))   </td><td>[127.01686857026839, 37.17641888608561]</td><td>POINT (127.0168685702684 37.17641888608561)</td><td>다사571087</td><td>0</td><td>0</td><td>0</td><td>0</td><td>0</td><td>⋯</td><td>0</td><td>0</td><td>0</td><td>0</td><td>0</td><td>0</td><td>0</td><td>0.0000000</td><td>0</td><td>0</td></tr>\n",
       "\t<tr><th scope=row>6</th><td>5</td><td>POLYGON ((127.0170100955357 37.17630563946577, 127.0172931460704 37.17630563946577, 127.0172931460704 37.17653213270545, 127.0170100955357 37.17653213270545, 127.0170100955357 37.17630563946577))</td><td>[127.01715162080306, 37.17641888608561]</td><td>POINT (127.0171516208031 37.17641888608561)</td><td>다사571087</td><td>0</td><td>0</td><td>0</td><td>0</td><td>0</td><td>⋯</td><td>0</td><td>0</td><td>0</td><td>0</td><td>0</td><td>0</td><td>0</td><td>0.4055556</td><td>0</td><td>0</td></tr>\n",
       "</tbody>\n",
       "</table>\n"
      ],
      "text/latex": [
       "A data.frame: 6 × 24\n",
       "\\begin{tabular}{r|lllllllllllllllllllll}\n",
       "  & ...1 & geometry & coord\\_cent & geo\\_cent & gid & accident\\_02 & schoolzone\\_cctv\\_cnt\\_09 & bump\\_cnt\\_18 & barrier\\_23 & sign\\_cnt\\_16 & ⋯ & crosswalk\\_cnt\\_17 & trafficlight\\_cnt\\_19 & bus\\_cnt\\_22 & road\\_maxspeed\\_23 & intersection\\_23 & building\\_level\\_down\\_27 & sports\\_cnt\\_29 & pop\\_fluid\\_810\\_08 & school\\_cnt\\_10 & conjestion\\_freq\\_25\\\\\n",
       "  & <dbl> & <chr> & <chr> & <chr> & <chr> & <dbl> & <dbl> & <dbl> & <dbl> & <dbl> & ⋯ & <dbl> & <dbl> & <dbl> & <dbl> & <dbl> & <dbl> & <dbl> & <dbl> & <dbl> & <dbl>\\\\\n",
       "\\hline\n",
       "\t1 & 0 & POLYGON ((127.016727045001 37.17607914622609, 127.0170100955357 37.17607914622609, 127.0170100955357 37.17630563946577, 127.016727045001 37.17630563946577, 127.016727045001 37.17607914622609))    & {[}127.01686857026839, 37.17619239284593{]} & POINT (127.0168685702684 37.17619239284593) & 다사571087 & 0 & 0 & 0 & 0 & 0 & ⋯ & 0 & 0 & 0 & 0 & 0 & 0 & 0 & 0.0000000 & 0 & 0\\\\\n",
       "\t2 & 1 & POLYGON ((127.0170100955357 37.17607914622609, 127.0172931460704 37.17607914622609, 127.0172931460704 37.17630563946577, 127.0170100955357 37.17630563946577, 127.0170100955357 37.17607914622609)) & {[}127.01715162080306, 37.17619239284593{]} & POINT (127.0171516208031 37.17619239284593) & 다사571087 & 0 & 0 & 0 & 0 & 0 & ⋯ & 0 & 0 & 0 & 0 & 0 & 0 & 0 & 0.0000000 & 0 & 0\\\\\n",
       "\t3 & 2 & POLYGON ((127.0172931460704 37.17607914622609, 127.0175761966052 37.17607914622609, 127.0175761966052 37.17630563946577, 127.0172931460704 37.17630563946577, 127.0172931460704 37.17607914622609)) & {[}127.01743467133781, 37.17619239284593{]} & POINT (127.0174346713378 37.17619239284593) & 다사571087 & 0 & 0 & 0 & 0 & 0 & ⋯ & 0 & 0 & 0 & 0 & 0 & 0 & 0 & 0.0000000 & 0 & 0\\\\\n",
       "\t4 & 3 & POLYGON ((127.0175761966052 37.17607914622609, 127.0178592471399 37.17607914622609, 127.0178592471399 37.17630563946577, 127.0175761966052 37.17630563946577, 127.0175761966052 37.17607914622609)) & {[}127.01771772187256, 37.17619239284593{]} & POINT (127.0177177218726 37.17619239284593) & 다사571087 & 0 & 0 & 0 & 0 & 0 & ⋯ & 0 & 0 & 0 & 0 & 0 & 0 & 0 & 0.0000000 & 0 & 0\\\\\n",
       "\t5 & 4 & POLYGON ((127.016727045001 37.17630563946577, 127.0170100955357 37.17630563946577, 127.0170100955357 37.17653213270545, 127.016727045001 37.17653213270545, 127.016727045001 37.17630563946577))    & {[}127.01686857026839, 37.17641888608561{]} & POINT (127.0168685702684 37.17641888608561) & 다사571087 & 0 & 0 & 0 & 0 & 0 & ⋯ & 0 & 0 & 0 & 0 & 0 & 0 & 0 & 0.0000000 & 0 & 0\\\\\n",
       "\t6 & 5 & POLYGON ((127.0170100955357 37.17630563946577, 127.0172931460704 37.17630563946577, 127.0172931460704 37.17653213270545, 127.0170100955357 37.17653213270545, 127.0170100955357 37.17630563946577)) & {[}127.01715162080306, 37.17641888608561{]} & POINT (127.0171516208031 37.17641888608561) & 다사571087 & 0 & 0 & 0 & 0 & 0 & ⋯ & 0 & 0 & 0 & 0 & 0 & 0 & 0 & 0.4055556 & 0 & 0\\\\\n",
       "\\end{tabular}\n"
      ],
      "text/markdown": [
       "\n",
       "A data.frame: 6 × 24\n",
       "\n",
       "| <!--/--> | ...1 &lt;dbl&gt; | geometry &lt;chr&gt; | coord_cent &lt;chr&gt; | geo_cent &lt;chr&gt; | gid &lt;chr&gt; | accident_02 &lt;dbl&gt; | schoolzone_cctv_cnt_09 &lt;dbl&gt; | bump_cnt_18 &lt;dbl&gt; | barrier_23 &lt;dbl&gt; | sign_cnt_16 &lt;dbl&gt; | ⋯ ⋯ | crosswalk_cnt_17 &lt;dbl&gt; | trafficlight_cnt_19 &lt;dbl&gt; | bus_cnt_22 &lt;dbl&gt; | road_maxspeed_23 &lt;dbl&gt; | intersection_23 &lt;dbl&gt; | building_level_down_27 &lt;dbl&gt; | sports_cnt_29 &lt;dbl&gt; | pop_fluid_810_08 &lt;dbl&gt; | school_cnt_10 &lt;dbl&gt; | conjestion_freq_25 &lt;dbl&gt; |\n",
       "|---|---|---|---|---|---|---|---|---|---|---|---|---|---|---|---|---|---|---|---|---|---|\n",
       "| 1 | 0 | POLYGON ((127.016727045001 37.17607914622609, 127.0170100955357 37.17607914622609, 127.0170100955357 37.17630563946577, 127.016727045001 37.17630563946577, 127.016727045001 37.17607914622609))    | [127.01686857026839, 37.17619239284593] | POINT (127.0168685702684 37.17619239284593) | 다사571087 | 0 | 0 | 0 | 0 | 0 | ⋯ | 0 | 0 | 0 | 0 | 0 | 0 | 0 | 0.0000000 | 0 | 0 |\n",
       "| 2 | 1 | POLYGON ((127.0170100955357 37.17607914622609, 127.0172931460704 37.17607914622609, 127.0172931460704 37.17630563946577, 127.0170100955357 37.17630563946577, 127.0170100955357 37.17607914622609)) | [127.01715162080306, 37.17619239284593] | POINT (127.0171516208031 37.17619239284593) | 다사571087 | 0 | 0 | 0 | 0 | 0 | ⋯ | 0 | 0 | 0 | 0 | 0 | 0 | 0 | 0.0000000 | 0 | 0 |\n",
       "| 3 | 2 | POLYGON ((127.0172931460704 37.17607914622609, 127.0175761966052 37.17607914622609, 127.0175761966052 37.17630563946577, 127.0172931460704 37.17630563946577, 127.0172931460704 37.17607914622609)) | [127.01743467133781, 37.17619239284593] | POINT (127.0174346713378 37.17619239284593) | 다사571087 | 0 | 0 | 0 | 0 | 0 | ⋯ | 0 | 0 | 0 | 0 | 0 | 0 | 0 | 0.0000000 | 0 | 0 |\n",
       "| 4 | 3 | POLYGON ((127.0175761966052 37.17607914622609, 127.0178592471399 37.17607914622609, 127.0178592471399 37.17630563946577, 127.0175761966052 37.17630563946577, 127.0175761966052 37.17607914622609)) | [127.01771772187256, 37.17619239284593] | POINT (127.0177177218726 37.17619239284593) | 다사571087 | 0 | 0 | 0 | 0 | 0 | ⋯ | 0 | 0 | 0 | 0 | 0 | 0 | 0 | 0.0000000 | 0 | 0 |\n",
       "| 5 | 4 | POLYGON ((127.016727045001 37.17630563946577, 127.0170100955357 37.17630563946577, 127.0170100955357 37.17653213270545, 127.016727045001 37.17653213270545, 127.016727045001 37.17630563946577))    | [127.01686857026839, 37.17641888608561] | POINT (127.0168685702684 37.17641888608561) | 다사571087 | 0 | 0 | 0 | 0 | 0 | ⋯ | 0 | 0 | 0 | 0 | 0 | 0 | 0 | 0.0000000 | 0 | 0 |\n",
       "| 6 | 5 | POLYGON ((127.0170100955357 37.17630563946577, 127.0172931460704 37.17630563946577, 127.0172931460704 37.17653213270545, 127.0170100955357 37.17653213270545, 127.0170100955357 37.17630563946577)) | [127.01715162080306, 37.17641888608561] | POINT (127.0171516208031 37.17641888608561) | 다사571087 | 0 | 0 | 0 | 0 | 0 | ⋯ | 0 | 0 | 0 | 0 | 0 | 0 | 0 | 0.4055556 | 0 | 0 |\n",
       "\n"
      ],
      "text/plain": [
       "  ...1\n",
       "1 0   \n",
       "2 1   \n",
       "3 2   \n",
       "4 3   \n",
       "5 4   \n",
       "6 5   \n",
       "  geometry                                                                                                                                                                                           \n",
       "1 POLYGON ((127.016727045001 37.17607914622609, 127.0170100955357 37.17607914622609, 127.0170100955357 37.17630563946577, 127.016727045001 37.17630563946577, 127.016727045001 37.17607914622609))   \n",
       "2 POLYGON ((127.0170100955357 37.17607914622609, 127.0172931460704 37.17607914622609, 127.0172931460704 37.17630563946577, 127.0170100955357 37.17630563946577, 127.0170100955357 37.17607914622609))\n",
       "3 POLYGON ((127.0172931460704 37.17607914622609, 127.0175761966052 37.17607914622609, 127.0175761966052 37.17630563946577, 127.0172931460704 37.17630563946577, 127.0172931460704 37.17607914622609))\n",
       "4 POLYGON ((127.0175761966052 37.17607914622609, 127.0178592471399 37.17607914622609, 127.0178592471399 37.17630563946577, 127.0175761966052 37.17630563946577, 127.0175761966052 37.17607914622609))\n",
       "5 POLYGON ((127.016727045001 37.17630563946577, 127.0170100955357 37.17630563946577, 127.0170100955357 37.17653213270545, 127.016727045001 37.17653213270545, 127.016727045001 37.17630563946577))   \n",
       "6 POLYGON ((127.0170100955357 37.17630563946577, 127.0172931460704 37.17630563946577, 127.0172931460704 37.17653213270545, 127.0170100955357 37.17653213270545, 127.0170100955357 37.17630563946577))\n",
       "  coord_cent                             \n",
       "1 [127.01686857026839, 37.17619239284593]\n",
       "2 [127.01715162080306, 37.17619239284593]\n",
       "3 [127.01743467133781, 37.17619239284593]\n",
       "4 [127.01771772187256, 37.17619239284593]\n",
       "5 [127.01686857026839, 37.17641888608561]\n",
       "6 [127.01715162080306, 37.17641888608561]\n",
       "  geo_cent                                    gid        accident_02\n",
       "1 POINT (127.0168685702684 37.17619239284593) 다사571087 0          \n",
       "2 POINT (127.0171516208031 37.17619239284593) 다사571087 0          \n",
       "3 POINT (127.0174346713378 37.17619239284593) 다사571087 0          \n",
       "4 POINT (127.0177177218726 37.17619239284593) 다사571087 0          \n",
       "5 POINT (127.0168685702684 37.17641888608561) 다사571087 0          \n",
       "6 POINT (127.0171516208031 37.17641888608561) 다사571087 0          \n",
       "  schoolzone_cctv_cnt_09 bump_cnt_18 barrier_23 sign_cnt_16 ⋯ crosswalk_cnt_17\n",
       "1 0                      0           0          0           ⋯ 0               \n",
       "2 0                      0           0          0           ⋯ 0               \n",
       "3 0                      0           0          0           ⋯ 0               \n",
       "4 0                      0           0          0           ⋯ 0               \n",
       "5 0                      0           0          0           ⋯ 0               \n",
       "6 0                      0           0          0           ⋯ 0               \n",
       "  trafficlight_cnt_19 bus_cnt_22 road_maxspeed_23 intersection_23\n",
       "1 0                   0          0                0              \n",
       "2 0                   0          0                0              \n",
       "3 0                   0          0                0              \n",
       "4 0                   0          0                0              \n",
       "5 0                   0          0                0              \n",
       "6 0                   0          0                0              \n",
       "  building_level_down_27 sports_cnt_29 pop_fluid_810_08 school_cnt_10\n",
       "1 0                      0             0.0000000        0            \n",
       "2 0                      0             0.0000000        0            \n",
       "3 0                      0             0.0000000        0            \n",
       "4 0                      0             0.0000000        0            \n",
       "5 0                      0             0.0000000        0            \n",
       "6 0                      0             0.4055556        0            \n",
       "  conjestion_freq_25\n",
       "1 0                 \n",
       "2 0                 \n",
       "3 0                 \n",
       "4 0                 \n",
       "5 0                 \n",
       "6 0                 "
      ]
     },
     "metadata": {},
     "output_type": "display_data"
    }
   ],
   "source": [
    "all_data = read_excel('input/schoolzone_grid_divide.xlsx')\n",
    "all_data<-as.data.frame(all_data)\n",
    "head(all_data)"
   ]
  },
  {
   "cell_type": "code",
   "execution_count": 63,
   "id": "editorial-suspect",
   "metadata": {
    "scrolled": true
   },
   "outputs": [
    {
     "data": {
      "text/html": [
       "<table>\n",
       "<caption>A data.frame: 3 × 19</caption>\n",
       "<thead>\n",
       "\t<tr><th></th><th scope=col>accident_02</th><th scope=col>schoolzone_cctv_cnt_09</th><th scope=col>bump_cnt_18</th><th scope=col>barrier_23</th><th scope=col>sign_cnt_16</th><th scope=col>pop_total_04</th><th scope=col>pop_child_05</th><th scope=col>ratio_child_0405</th><th scope=col>pop_working_06</th><th scope=col>crosswalk_cnt_17</th><th scope=col>trafficlight_cnt_19</th><th scope=col>bus_cnt_22</th><th scope=col>road_maxspeed_23</th><th scope=col>intersection_23</th><th scope=col>building_level_down_27</th><th scope=col>sports_cnt_29</th><th scope=col>pop_fluid_810_08</th><th scope=col>school_cnt_10</th><th scope=col>conjestion_freq_25</th></tr>\n",
       "\t<tr><th></th><th scope=col>&lt;dbl&gt;</th><th scope=col>&lt;dbl&gt;</th><th scope=col>&lt;dbl&gt;</th><th scope=col>&lt;dbl&gt;</th><th scope=col>&lt;dbl&gt;</th><th scope=col>&lt;dbl&gt;</th><th scope=col>&lt;dbl&gt;</th><th scope=col>&lt;dbl&gt;</th><th scope=col>&lt;dbl&gt;</th><th scope=col>&lt;dbl&gt;</th><th scope=col>&lt;dbl&gt;</th><th scope=col>&lt;dbl&gt;</th><th scope=col>&lt;dbl&gt;</th><th scope=col>&lt;dbl&gt;</th><th scope=col>&lt;dbl&gt;</th><th scope=col>&lt;dbl&gt;</th><th scope=col>&lt;dbl&gt;</th><th scope=col>&lt;dbl&gt;</th><th scope=col>&lt;dbl&gt;</th></tr>\n",
       "</thead>\n",
       "<tbody>\n",
       "\t<tr><th scope=row>1</th><td>0</td><td>0</td><td>0</td><td>0</td><td>0</td><td>112</td><td>0</td><td>0</td><td>112</td><td>0</td><td>0</td><td>0</td><td>0</td><td>0</td><td>0</td><td>0</td><td>0</td><td>0</td><td>0</td></tr>\n",
       "\t<tr><th scope=row>2</th><td>0</td><td>0</td><td>0</td><td>0</td><td>0</td><td>112</td><td>0</td><td>0</td><td>112</td><td>0</td><td>0</td><td>0</td><td>0</td><td>0</td><td>0</td><td>0</td><td>0</td><td>0</td><td>0</td></tr>\n",
       "\t<tr><th scope=row>3</th><td>0</td><td>0</td><td>0</td><td>0</td><td>0</td><td>112</td><td>0</td><td>0</td><td>112</td><td>0</td><td>0</td><td>0</td><td>0</td><td>0</td><td>0</td><td>0</td><td>0</td><td>0</td><td>0</td></tr>\n",
       "</tbody>\n",
       "</table>\n"
      ],
      "text/latex": [
       "A data.frame: 3 × 19\n",
       "\\begin{tabular}{r|lllllllllllllllllll}\n",
       "  & accident\\_02 & schoolzone\\_cctv\\_cnt\\_09 & bump\\_cnt\\_18 & barrier\\_23 & sign\\_cnt\\_16 & pop\\_total\\_04 & pop\\_child\\_05 & ratio\\_child\\_0405 & pop\\_working\\_06 & crosswalk\\_cnt\\_17 & trafficlight\\_cnt\\_19 & bus\\_cnt\\_22 & road\\_maxspeed\\_23 & intersection\\_23 & building\\_level\\_down\\_27 & sports\\_cnt\\_29 & pop\\_fluid\\_810\\_08 & school\\_cnt\\_10 & conjestion\\_freq\\_25\\\\\n",
       "  & <dbl> & <dbl> & <dbl> & <dbl> & <dbl> & <dbl> & <dbl> & <dbl> & <dbl> & <dbl> & <dbl> & <dbl> & <dbl> & <dbl> & <dbl> & <dbl> & <dbl> & <dbl> & <dbl>\\\\\n",
       "\\hline\n",
       "\t1 & 0 & 0 & 0 & 0 & 0 & 112 & 0 & 0 & 112 & 0 & 0 & 0 & 0 & 0 & 0 & 0 & 0 & 0 & 0\\\\\n",
       "\t2 & 0 & 0 & 0 & 0 & 0 & 112 & 0 & 0 & 112 & 0 & 0 & 0 & 0 & 0 & 0 & 0 & 0 & 0 & 0\\\\\n",
       "\t3 & 0 & 0 & 0 & 0 & 0 & 112 & 0 & 0 & 112 & 0 & 0 & 0 & 0 & 0 & 0 & 0 & 0 & 0 & 0\\\\\n",
       "\\end{tabular}\n"
      ],
      "text/markdown": [
       "\n",
       "A data.frame: 3 × 19\n",
       "\n",
       "| <!--/--> | accident_02 &lt;dbl&gt; | schoolzone_cctv_cnt_09 &lt;dbl&gt; | bump_cnt_18 &lt;dbl&gt; | barrier_23 &lt;dbl&gt; | sign_cnt_16 &lt;dbl&gt; | pop_total_04 &lt;dbl&gt; | pop_child_05 &lt;dbl&gt; | ratio_child_0405 &lt;dbl&gt; | pop_working_06 &lt;dbl&gt; | crosswalk_cnt_17 &lt;dbl&gt; | trafficlight_cnt_19 &lt;dbl&gt; | bus_cnt_22 &lt;dbl&gt; | road_maxspeed_23 &lt;dbl&gt; | intersection_23 &lt;dbl&gt; | building_level_down_27 &lt;dbl&gt; | sports_cnt_29 &lt;dbl&gt; | pop_fluid_810_08 &lt;dbl&gt; | school_cnt_10 &lt;dbl&gt; | conjestion_freq_25 &lt;dbl&gt; |\n",
       "|---|---|---|---|---|---|---|---|---|---|---|---|---|---|---|---|---|---|---|---|\n",
       "| 1 | 0 | 0 | 0 | 0 | 0 | 112 | 0 | 0 | 112 | 0 | 0 | 0 | 0 | 0 | 0 | 0 | 0 | 0 | 0 |\n",
       "| 2 | 0 | 0 | 0 | 0 | 0 | 112 | 0 | 0 | 112 | 0 | 0 | 0 | 0 | 0 | 0 | 0 | 0 | 0 | 0 |\n",
       "| 3 | 0 | 0 | 0 | 0 | 0 | 112 | 0 | 0 | 112 | 0 | 0 | 0 | 0 | 0 | 0 | 0 | 0 | 0 | 0 |\n",
       "\n"
      ],
      "text/plain": [
       "  accident_02 schoolzone_cctv_cnt_09 bump_cnt_18 barrier_23 sign_cnt_16\n",
       "1 0           0                      0           0          0          \n",
       "2 0           0                      0           0          0          \n",
       "3 0           0                      0           0          0          \n",
       "  pop_total_04 pop_child_05 ratio_child_0405 pop_working_06 crosswalk_cnt_17\n",
       "1 112          0            0                112            0               \n",
       "2 112          0            0                112            0               \n",
       "3 112          0            0                112            0               \n",
       "  trafficlight_cnt_19 bus_cnt_22 road_maxspeed_23 intersection_23\n",
       "1 0                   0          0                0              \n",
       "2 0                   0          0                0              \n",
       "3 0                   0          0                0              \n",
       "  building_level_down_27 sports_cnt_29 pop_fluid_810_08 school_cnt_10\n",
       "1 0                      0             0                0            \n",
       "2 0                      0             0                0            \n",
       "3 0                      0             0                0            \n",
       "  conjestion_freq_25\n",
       "1 0                 \n",
       "2 0                 \n",
       "3 0                 "
      ]
     },
     "metadata": {},
     "output_type": "display_data"
    }
   ],
   "source": [
    "data<-all_data[,-c(1:5)]\n",
    "head(data,3)"
   ]
  },
  {
   "cell_type": "markdown",
   "id": "needed-combat",
   "metadata": {},
   "source": [
    "### 8-1-1) 영과잉 음이항 모형 (ZINB 모형)"
   ]
  },
  {
   "cell_type": "code",
   "execution_count": 33,
   "id": "exciting-european",
   "metadata": {
    "scrolled": true
   },
   "outputs": [
    {
     "data": {
      "text/plain": [
       "\n",
       "Call:\n",
       "zeroinfl(formula = accident_02 ~ pop_total_04 + pop_child_05 + ratio_child_0405 + \n",
       "    pop_working_06 + sign_cnt_16 + crosswalk_cnt_17 + trafficlight_cnt_19 + \n",
       "    schoolzone_cctv_cnt_09 + sports_cnt_29 + bus_cnt_22 + road_maxspeed_23 + \n",
       "    pop_fluid_810_08 + school_cnt_10 + conjestion_freq_25 + intersection_23 + \n",
       "    barrier_23 | 1, data = data, dist = \"negbin\")\n",
       "\n",
       "Pearson residuals:\n",
       "    Min      1Q  Median      3Q     Max \n",
       "-0.6843 -0.3775 -0.3718 -0.3296  5.3930 \n",
       "\n",
       "Count model coefficients (negbin with log link):\n",
       "                         Estimate Std. Error z value Pr(>|z|)    \n",
       "(Intercept)            -0.5058718  0.1529649  -3.307 0.000943 ***\n",
       "pop_total_04           -0.0040157  0.0093895  -0.428 0.668884    \n",
       "pop_child_05            0.0419028  0.0129841   3.227 0.001250 ** \n",
       "ratio_child_0405       -5.9050301  1.8746695  -3.150 0.001633 ** \n",
       "pop_working_06          0.0021624  0.0120319   0.180 0.857373    \n",
       "sign_cnt_16             0.5329416  0.4051267   1.315 0.188344    \n",
       "crosswalk_cnt_17        0.6412515  0.2702257   2.373 0.017643 *  \n",
       "trafficlight_cnt_19     0.4151705  0.2169929   1.913 0.055711 .  \n",
       "schoolzone_cctv_cnt_09  0.0219404  0.1867769   0.117 0.906489    \n",
       "sports_cnt_29           0.3528971  0.2628913   1.342 0.179476    \n",
       "bus_cnt_22              1.2667089  0.4383168   2.890 0.003853 ** \n",
       "road_maxspeed_23       -0.1040480  0.1448814  -0.718 0.472659    \n",
       "pop_fluid_810_08        0.0301167  0.0325007   0.927 0.354110    \n",
       "school_cnt_10           0.2631618  0.5303454   0.496 0.619747    \n",
       "conjestion_freq_25     -0.0008735  0.0036876  -0.237 0.812751    \n",
       "intersection_23         0.1673092  0.2405867   0.695 0.486791    \n",
       "barrier_23              0.6249463  0.5285038   1.182 0.237014    \n",
       "Log(theta)             10.2200216 27.1599772   0.376 0.706701    \n",
       "\n",
       "Zero-inflation model coefficients (binomial with logit link):\n",
       "            Estimate Std. Error z value Pr(>|z|)    \n",
       "(Intercept)   0.7007     0.1369   5.116 3.11e-07 ***\n",
       "---\n",
       "Signif. codes:  0 '***' 0.001 '**' 0.01 '*' 0.05 '.' 0.1 ' ' 1 \n",
       "\n",
       "Theta = 27447.2607 \n",
       "Number of iterations in BFGS optimization: 40 \n",
       "Log-likelihood:  -784 on 19 Df"
      ]
     },
     "metadata": {},
     "output_type": "display_data"
    }
   ],
   "source": [
    "zinb<-zeroinfl( accident_02 ~ pop_total_04 + \n",
    "    pop_child_05 + ratio_child_0405 + pop_working_06 + sign_cnt_16 + \n",
    "    crosswalk_cnt_17 + trafficlight_cnt_19 +schoolzone_cctv_cnt_09+\n",
    "    sports_cnt_29 +   bus_cnt_22+ road_maxspeed_23  + pop_fluid_810_08 + school_cnt_10 + conjestion_freq_25 + intersection_23 + \n",
    "    barrier_23 |1, data=data, dist=\"negbin\")\n",
    "summary(zinb)"
   ]
  },
  {
   "cell_type": "code",
   "execution_count": 64,
   "id": "brutal-beads",
   "metadata": {},
   "outputs": [],
   "source": [
    "data<- subset(data, select=-c(building_level_down_27)) #변수하나빼기"
   ]
  },
  {
   "cell_type": "markdown",
   "id": "hybrid-outreach",
   "metadata": {},
   "source": [
    "### 8-1-2) 위험 지수를 만들기 위한 변수 정규화\n",
    "> - 각 변수를 최댓값으로 나누어 정규화 시켜준다."
   ]
  },
  {
   "cell_type": "code",
   "execution_count": 67,
   "id": "latter-chicken",
   "metadata": {
    "scrolled": true
   },
   "outputs": [
    {
     "data": {
      "text/plain": [
       "  accident_02      schoolzone_cctv_cnt_09  bump_cnt_18         barrier_23      \n",
       " Min.   :0.00000   Min.   :0.00000        Min.   :0.000000   Min.   :0.000000  \n",
       " 1st Qu.:0.00000   1st Qu.:0.00000        1st Qu.:0.000000   1st Qu.:0.000000  \n",
       " Median :0.00000   Median :0.00000        Median :0.000000   Median :0.000000  \n",
       " Mean   :0.08046   Mean   :0.02538        Mean   :0.002155   Mean   :0.007184  \n",
       " 3rd Qu.:0.00000   3rd Qu.:0.00000        3rd Qu.:0.000000   3rd Qu.:0.000000  \n",
       " Max.   :1.00000   Max.   :1.00000        Max.   :1.000000   Max.   :1.000000  \n",
       "  sign_cnt_16       pop_total_04      pop_child_05     ratio_child_0405\n",
       " Min.   :0.00000   Min.   :0.00000   Min.   :0.00000   Min.   :0.0000  \n",
       " 1st Qu.:0.00000   1st Qu.:0.00000   1st Qu.:0.00000   1st Qu.:0.0000  \n",
       " Median :0.00000   Median :0.04355   Median :0.00000   Median :0.0000  \n",
       " Mean   :0.01149   Mean   :0.09113   Mean   :0.08479   Mean   :0.1850  \n",
       " 3rd Qu.:0.00000   3rd Qu.:0.14435   3rd Qu.:0.08025   3rd Qu.:0.3554  \n",
       " Max.   :1.00000   Max.   :1.00000   Max.   :1.00000   Max.   :1.0000  \n",
       " pop_working_06    crosswalk_cnt_17  trafficlight_cnt_19   bus_cnt_22      \n",
       " Min.   :0.00000   Min.   :0.00000   Min.   :0.00000     Min.   :0.000000  \n",
       " 1st Qu.:0.00000   1st Qu.:0.00000   1st Qu.:0.00000     1st Qu.:0.000000  \n",
       " Median :0.03946   Median :0.00000   Median :0.00000     Median :0.000000  \n",
       " Mean   :0.08779   Mean   :0.00886   Mean   :0.01329     Mean   :0.005747  \n",
       " 3rd Qu.:0.13084   3rd Qu.:0.00000   3rd Qu.:0.00000     3rd Qu.:0.000000  \n",
       " Max.   :1.00000   Max.   :1.00000   Max.   :1.00000     Max.   :1.000000  \n",
       " road_maxspeed_23  intersection_23     sports_cnt_29      pop_fluid_810_08 \n",
       " Min.   :0.00000   Min.   :0.0000000   Min.   :0.000000   Min.   :0.00000  \n",
       " 1st Qu.:0.00000   1st Qu.:0.0000000   1st Qu.:0.000000   1st Qu.:0.00000  \n",
       " Median :0.00000   Median :0.0000000   Median :0.000000   Median :0.00000  \n",
       " Mean   :0.00182   Mean   :0.0007184   Mean   :0.002874   Mean   :0.02481  \n",
       " 3rd Qu.:0.00000   3rd Qu.:0.0000000   3rd Qu.:0.000000   3rd Qu.:0.00000  \n",
       " Max.   :1.00000   Max.   :1.0000000   Max.   :1.000000   Max.   :1.00000  \n",
       " school_cnt_10     conjestion_freq_25\n",
       " Min.   :0.00000   Min.   :0.00000   \n",
       " 1st Qu.:0.00000   1st Qu.:0.00000   \n",
       " Median :0.00000   Median :0.00000   \n",
       " Mean   :0.01078   Mean   :0.02948   \n",
       " 3rd Qu.:0.00000   3rd Qu.:0.00000   \n",
       " Max.   :1.00000   Max.   :1.00000   "
      ]
     },
     "metadata": {},
     "output_type": "display_data"
    }
   ],
   "source": [
    "#지수에 넣기 위해 변수 정규화\n",
    "data_index2<-sapply(data, function(x) {x/max(x)})\n",
    "summary(data_index2)"
   ]
  },
  {
   "cell_type": "markdown",
   "id": "occupational-retirement",
   "metadata": {},
   "source": [
    "### 8-1-3) 격자별 교통사고 위험지수 생성\n",
    "> - 영과잉 음이항 모형을 통해 얻은 회귀 계수를 가중치로 사용하여 격자별 위험 지수 설정한다"
   ]
  },
  {
   "cell_type": "code",
   "execution_count": 74,
   "id": "verbal-softball",
   "metadata": {},
   "outputs": [],
   "source": [
    "# exponential 변환\n",
    "data_index2$hazard_index2=exp(summary(zinb)$coefficients$count[1])+\n",
    "                 exp(summary(zinb)$coefficients$count[3])*data_index2$pop_child_05+\n",
    "                 exp(summary(zinb)$coefficients$count[4])*data_index2$ratio_child_0405+\n",
    "                 exp(summary(zinb)$coefficients$count[7])*data_index2$crosswalk_cnt_17+\n",
    "                 exp(summary(zinb)$coefficients$count[8])*data_index2$trafficlight_cnt_19+\n",
    "                 exp(summary(zinb)$coefficients$count[10])*data_index2$bus_cnt_22"
   ]
  },
  {
   "cell_type": "code",
   "execution_count": 80,
   "id": "complimentary-activity",
   "metadata": {},
   "outputs": [],
   "source": [
    "write.xlsx(data_index2,'input/data_index2.xlsx') # 위험지수를 포함한 데이터를 저장"
   ]
  }
 ],
 "metadata": {
  "kernelspec": {
   "display_name": "R",
   "language": "R",
   "name": "ir"
  },
  "language_info": {
   "codemirror_mode": "r",
   "file_extension": ".r",
   "mimetype": "text/x-r-source",
   "name": "R",
   "pygments_lexer": "r",
   "version": "3.6.0"
  }
 },
 "nbformat": 4,
 "nbformat_minor": 5
}
