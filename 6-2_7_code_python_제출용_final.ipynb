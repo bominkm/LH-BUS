{
 "cells": [
  {
   "cell_type": "markdown",
   "metadata": {
    "id": "k_zsRJdvJzPH"
   },
   "source": [
    "Library upload"
   ]
  },
  {
   "cell_type": "code",
   "execution_count": 117,
   "metadata": {
    "id": "45q_A96wJzPJ",
    "outputId": "1dae7b53-28e9-411d-e747-287af66231ae"
   },
   "outputs": [
    {
     "data": {
      "text/html": [
       "        <script type=\"text/javascript\">\n",
       "        window.PlotlyConfig = {MathJaxConfig: 'local'};\n",
       "        if (window.MathJax) {MathJax.Hub.Config({SVG: {font: \"STIX-Web\"}});}\n",
       "        if (typeof require !== 'undefined') {\n",
       "        require.undef(\"plotly\");\n",
       "        requirejs.config({\n",
       "            paths: {\n",
       "                'plotly': ['https://cdn.plot.ly/plotly-latest.min']\n",
       "            }\n",
       "        });\n",
       "        require(['plotly'], function(Plotly) {\n",
       "            window._Plotly = Plotly;\n",
       "        });\n",
       "        }\n",
       "        </script>\n",
       "        "
      ]
     },
     "metadata": {},
     "output_type": "display_data"
    }
   ],
   "source": [
    "import warnings\n",
    "warnings.filterwarnings('ignore')\n",
    "import pandas as pd\n",
    "import numpy as np\n",
    "from geoband.API import *\n",
    "import folium\n",
    "import json\n",
    "import geopandas as gpd\n",
    "import seaborn as sns\n",
    "import matplotlib.pyplot as plt\n",
    "import os\n",
    "current_path = os.getcwd()\n",
    "current_path\n",
    "import matplotlib as mpl\n",
    "import matplotlib.font_manager as fm\n",
    "import statistics\n",
    "\n",
    "# fetch the name of font that was installed\n",
    "path = current_path+'/NanumBarunGothic.ttf'\n",
    "fontprop = fm.FontProperties(fname=path)\n",
    "\n",
    "import geoplot as gplt\n",
    "import geoplot.crs as gcrs\n",
    "import imageio\n",
    "import pathlib\n",
    "import matplotlib.pyplot as plt\n",
    "import mapclassify as mc\n",
    "\n",
    "import random\n",
    "from functools import reduce\n",
    "from collections import defaultdict\n",
    "import folium\n",
    "import shapely\n",
    "from IPython.display import display\n",
    "from tqdm.notebook import tqdm\n",
    "import sklearn.cluster\n",
    "import tensorflow as tf\n",
    "import pydeck as pdk\n",
    "import cufflinks as cf \n",
    "cf.go_offline(connected=True)\n",
    "cf.set_config_file(theme='polar')\n",
    "pd.set_option('display.max_columns', 500)\n",
    "pd.set_option('display.width', 1000)\n",
    "\n",
    "from shapely.geometry import Polygon, Point\n",
    "from numpy import random\n",
    "\n",
    "#최적화 solver\n",
    "import time\n",
    "from mip import Model, xsum, maximize, BINARY  \n",
    "\n",
    "import matplotlib.font_manager as font_manager\n",
    "\n",
    "font_dirs = [current_path, ]\n",
    "font_files = font_manager.findSystemFonts(fontpaths=font_dirs)\n",
    "font_list = font_manager.createFontList(font_files)\n",
    "font_manager.fontManager.ttflist.extend(font_list)\n",
    "plt.rcParams[\"font.family\"] = 'Nanum Gothic'\n",
    "mpl.rcParams['font.family'] = 'NanumBarunGothic'\n",
    "from shapely import wkt\n",
    "import geopy.distance\n",
    "import ast\n",
    "import geog\n",
    "import shapely.geometry\n",
    "from area import area\n",
    "from geopandas import GeoDataFrame"
   ]
  },
  {
   "cell_type": "code",
   "execution_count": 118,
   "metadata": {
    "id": "iP8qQsxTJzPK"
   },
   "outputs": [],
   "source": [
    "import matplotlib.font_manager as font_manager\n",
    "\n",
    "font_dirs = [current_path, ]\n",
    "font_files = font_manager.findSystemFonts(fontpaths=font_dirs)\n",
    "font_list = font_manager.createFontList(font_files)\n",
    "font_manager.fontManager.ttflist.extend(font_list)\n",
    "\n",
    "mpl.rcParams['font.family'] = 'NanumBarunGothic'"
   ]
  },
  {
   "cell_type": "markdown",
   "metadata": {
    "id": "gQFkj3lvJzPL"
   },
   "source": [
    "데이터 읽기"
   ]
  },
  {
   "cell_type": "code",
   "execution_count": 119,
   "metadata": {
    "collapsed": true,
    "id": "zciaqbREJzPL",
    "jupyter": {
     "outputs_hidden": true
    },
    "outputId": "d9501095-f170-4542-bfe8-6c95c42ab0bb"
   },
   "outputs": [
    {
     "name": "stdout",
     "output_type": "stream",
     "text": [
      "input/1.오산시_주정차단속(2018~2020).csv\n",
      "input/8.오산시_유동인구(2019).csv\n",
      "input/9.오산시_어린이보호구역.csv\n",
      "input/10.오산시_학교위치정보.csv\n",
      "input/13.오산시_어린이집_유치원현황.csv\n",
      "input/14.오산시_기상데이터(2010~2019).csv\n",
      "input/15.오산시_무인교통단속카메라.csv\n",
      "input/16.오산시_도로안전표지표준데이터.csv\n",
      "input/18.오산시_과속방지턱표준데이터.csv\n",
      "input/20.오산시_CCTV설치현황.csv\n",
      "input/22.오산시_버스정류장.csv\n",
      "input/24.평일_전일,시간대별_오산시_추정교통량_Level6.csv\n",
      "input/25.평일_전일_오산시_혼잡빈도강도_Level6.csv\n",
      "input/26.평일_전일_오산시_혼잡시간강도_Level6.csv\n",
      "input/29.오산시_체육시설현황.csv\n",
      "input/30.오산시_학원_및_교습소_현황.csv\n",
      "input/2.오산시_어린이교통사고_격자.geojson\n",
      "input/3.오산시_차량등록현황_격자.geojson\n",
      "input/4.오산시_연령별_거주인구격자(총인구).geojson\n",
      "input/5.오산시_연령별_거주인구격자(유소년).geojson\n",
      "input/6.오산시_연령별_거주인구격자(생산가능인구).geojson\n",
      "input/7.오산시_연령별_거주인구격자(고령).geojson\n",
      "input/11.오산시_초등학교_통학구.geojson\n",
      "input/12.오산시_중학교_학군.geojson\n",
      "input/17.오산시_횡단보도.geojson\n",
      "input/19.오산시_신호등.geojson\n",
      "input/21.오산시_인도.geojson\n",
      "input/23.오산시_상세도로망_LV6.geojson\n",
      "input/27.오산시_도로명주소_건물.geojson\n",
      "input/28.오산시_건물연면적_격자.geojson\n",
      "input/31.오산시_법정경계(시군구).geojson\n",
      "input/32.오산시_행정경계(읍면동).geojson\n",
      "input/33.오산시_법정경계(읍면동).geojson\n",
      "input/34.오산시_지적도.geojson\n"
     ]
    }
   ],
   "source": [
    "input_path = pathlib.Path('./input')\n",
    "if not input_path.is_dir():\n",
    "    input_path.mkdir()\n",
    "\n",
    "GetCompasData('SBJ_2012_001', '1', input_path.joinpath('1.오산시_주정차단속(2018~2020).csv'))\n",
    "GetCompasData('SBJ_2012_001', '2', input_path.joinpath('2.오산시_어린이교통사고_격자.geojson'))\n",
    "GetCompasData('SBJ_2012_001', '3', input_path.joinpath('3.오산시_차량등록현황_격자.geojson'))\n",
    "GetCompasData('SBJ_2012_001', '4', input_path.joinpath('4.오산시_연령별_거주인구격자(총인구).geojson'))\n",
    "GetCompasData('SBJ_2012_001', '5', input_path.joinpath('5.오산시_연령별_거주인구격자(유소년).geojson'))\n",
    "GetCompasData('SBJ_2012_001', '6', input_path.joinpath('6.오산시_연령별_거주인구격자(생산가능인구).geojson'))\n",
    "GetCompasData('SBJ_2012_001', '7', input_path.joinpath('7.오산시_연령별_거주인구격자(고령).geojson'))\n",
    "GetCompasData('SBJ_2012_001', '8', input_path.joinpath('8.오산시_유동인구(2019).csv'))\n",
    "GetCompasData('SBJ_2012_001', '9', input_path.joinpath('9.오산시_어린이보호구역.csv'))\n",
    "GetCompasData('SBJ_2012_001', '10', input_path.joinpath('10.오산시_학교위치정보.csv'))\n",
    "GetCompasData('SBJ_2012_001', '11', input_path.joinpath('11.오산시_초등학교_통학구.geojson'))\n",
    "GetCompasData('SBJ_2012_001', '12', input_path.joinpath('12.오산시_중학교_학군.geojson'))\n",
    "GetCompasData('SBJ_2012_001', '13', input_path.joinpath('13.오산시_어린이집_유치원현황.csv'))\n",
    "GetCompasData('SBJ_2012_001', '14', input_path.joinpath('14.오산시_기상데이터(2010~2019).csv'))\n",
    "GetCompasData('SBJ_2012_001', '15', input_path.joinpath('15.오산시_무인교통단속카메라.csv'))\n",
    "GetCompasData('SBJ_2012_001', '16', input_path.joinpath('16.오산시_도로안전표지표준데이터.csv'))\n",
    "GetCompasData('SBJ_2012_001', '17', input_path.joinpath('17.오산시_횡단보도.geojson'))\n",
    "GetCompasData('SBJ_2012_001', '18', input_path.joinpath('18.오산시_과속방지턱표준데이터.csv'))\n",
    "GetCompasData('SBJ_2012_001', '19', input_path.joinpath('19.오산시_신호등.geojson'))\n",
    "GetCompasData('SBJ_2012_001', '20', input_path.joinpath('20.오산시_CCTV설치현황.csv'))\n",
    "GetCompasData('SBJ_2012_001', '21', input_path.joinpath('21.오산시_인도.geojson'))\n",
    "GetCompasData('SBJ_2012_001', '22', input_path.joinpath('22.오산시_버스정류장.csv'))\n",
    "GetCompasData('SBJ_2012_001', '23', input_path.joinpath('23.오산시_상세도로망_LV6.geojson'))\n",
    "GetCompasData('SBJ_2012_001', '24', input_path.joinpath('24.평일_전일,시간대별_오산시_추정교통량_Level6.csv'))\n",
    "GetCompasData('SBJ_2012_001', '25', input_path.joinpath('25.평일_전일_오산시_혼잡빈도강도_Level6.csv'))\n",
    "GetCompasData('SBJ_2012_001', '26', input_path.joinpath('26.평일_전일_오산시_혼잡시간강도_Level6.csv'))\n",
    "GetCompasData('SBJ_2012_001', '27', input_path.joinpath('27.오산시_도로명주소_건물.geojson'))\n",
    "GetCompasData('SBJ_2012_001', '28', input_path.joinpath('28.오산시_건물연면적_격자.geojson'))\n",
    "GetCompasData('SBJ_2012_001', '29', input_path.joinpath('29.오산시_체육시설현황.csv'))\n",
    "GetCompasData('SBJ_2012_001', '30', input_path.joinpath('30.오산시_학원_및_교습소_현황.csv'))\n",
    "GetCompasData('SBJ_2012_001', '31', input_path.joinpath('31.오산시_법정경계(시군구).geojson'))\n",
    "GetCompasData('SBJ_2012_001', '32', input_path.joinpath('32.오산시_행정경계(읍면동).geojson'))\n",
    "GetCompasData('SBJ_2012_001', '33', input_path.joinpath('33.오산시_법정경계(읍면동).geojson'))\n",
    "GetCompasData('SBJ_2012_001', '34', input_path.joinpath('34.오산시_지적도.geojson'))\n",
    "GetCompasData('SBJ_2012_001', '35', input_path.joinpath('35.코드정의서.xlsx'))\n",
    "\n",
    "for path in list(input_path.glob('*.csv')) + list(input_path.glob('*.geojson')):\n",
    "    print(path)"
   ]
  },
  {
   "cell_type": "code",
   "execution_count": 120,
   "metadata": {
    "collapsed": true,
    "id": "DqJOcOe7JzPM",
    "jupyter": {
     "outputs_hidden": true
    }
   },
   "outputs": [],
   "source": [
    "# 데이터 입력\n",
    "# 데이터 입력 시 용이성을 위해 df_##으로 이름 지정\n",
    "\n",
    "df_01 = pd.read_csv(current_path+'/input/1.오산시_주정차단속(2018~2020).csv')\n",
    "df_02 = gpd.read_file(current_path+'/input/2.오산시_어린이교통사고_격자.geojson')\n",
    "df_03 = gpd.read_file(current_path+'/input/3.오산시_차량등록현황_격자.geojson')\n",
    "df_04 = gpd.read_file(current_path+'/input/4.오산시_연령별_거주인구격자(총인구).geojson')\n",
    "df_05 = gpd.read_file(current_path+'/input/5.오산시_연령별_거주인구격자(유소년).geojson')\n",
    "df_06 = gpd.read_file(current_path+'/input/6.오산시_연령별_거주인구격자(생산가능인구).geojson')\n",
    "df_07 = gpd.read_file(current_path+'/input/7.오산시_연령별_거주인구격자(고령).geojson')\n",
    "df_08 = pd.read_csv(current_path+'/input/8.오산시_유동인구(2019).csv')\n",
    "df_09 = pd.read_csv(current_path+'/input/9.오산시_어린이보호구역.csv')\n",
    "df_10 = pd.read_csv(current_path+'/input/10.오산시_학교위치정보.csv')\n",
    "df_11 = gpd.read_file(current_path+'/input/11.오산시_초등학교_통학구.geojson')\n",
    "df_12 = gpd.read_file(current_path+'/input/12.오산시_중학교_학군.geojson')\n",
    "df_13 = pd.read_csv(current_path+'/input/13.오산시_어린이집_유치원현황.csv')\n",
    "df_14 = pd.read_csv(current_path+'/input/14.오산시_기상데이터(2010~2019).csv')\n",
    "df_15 = pd.read_csv(current_path+'/input/15.오산시_무인교통단속카메라.csv')\n",
    "df_16 = pd.read_csv(current_path+'/input/16.오산시_도로안전표지표준데이터.csv')\n",
    "df_17 = gpd.read_file(current_path+'/input/17.오산시_횡단보도.geojson')\n",
    "df_18 = pd.read_csv(current_path+'/input/18.오산시_과속방지턱표준데이터.csv')\n",
    "df_19 = gpd.read_file(current_path+'/input/19.오산시_신호등.geojson')\n",
    "df_20 = pd.read_csv(current_path+'/input/20.오산시_CCTV설치현황.csv')\n",
    "df_21 = gpd.read_file(current_path+'/input/21.오산시_인도.geojson')\n",
    "df_22 = pd.read_csv(current_path+'/input/22.오산시_버스정류장.csv')\n",
    "df_23 = gpd.read_file(current_path+'/input/23.오산시_상세도로망_LV6.geojson')\n",
    "df_24 = pd.read_csv(current_path+'/input/24.평일_전일,시간대별_오산시_추정교통량_Level6.csv')\n",
    "df_25 = pd.read_csv(current_path+'/input/25.평일_전일_오산시_혼잡빈도강도_Level6.csv')\n",
    "df_26 = pd.read_csv(current_path+'/input/26.평일_전일_오산시_혼잡시간강도_Level6.csv')\n",
    "df_27 = gpd.read_file(current_path+'/input/27.오산시_도로명주소_건물.geojson')\n",
    "df_28 = gpd.read_file(current_path+'/input/28.오산시_건물연면적_격자.geojson')\n",
    "df_29 = pd.read_csv(current_path+'/input/29.오산시_체육시설현황.csv')\n",
    "df_30 = pd.read_csv(current_path+'/input/30.오산시_학원_및_교습소_현황.csv')\n",
    "df_31 = gpd.read_file(current_path+'/input/31.오산시_법정경계(시군구).geojson')\n",
    "df_32 = gpd.read_file(current_path+'/input/32.오산시_행정경계(읍면동).geojson')\n",
    "df_33 = gpd.read_file(current_path+'/input/33.오산시_법정경계(읍면동).geojson')\n",
    "df_34 = gpd.read_file(current_path+'/input/34.오산시_지적도.geojson')\n",
    "\n",
    "\n",
    "# # column name 수정\n",
    "df_24 = df_24.rename(columns = {'상세도로망_LinkID':'link_id'})\n",
    "df_25 = df_25.rename(columns = {'상세도로망_LinkID':'link_id'})\n",
    "df_26 = df_26.rename(columns = {'상세도로망_LinkID':'link_id'})"
   ]
  },
  {
   "cell_type": "markdown",
   "metadata": {
    "id": "YLH9fH_XJzPM"
   },
   "source": [
    "________________________"
   ]
  },
  {
   "cell_type": "markdown",
   "metadata": {
    "id": "3oBG7n8AJzPN"
   },
   "source": [
    "함수 정리"
   ]
  },
  {
   "cell_type": "code",
   "execution_count": 121,
   "metadata": {
    "id": "09P8oWtqJzPN"
   },
   "outputs": [],
   "source": [
    "#Pydeck 사용을 위한 함수 정의\n",
    "import geopandas as gpd \n",
    "import shapely # Shapely 형태의 데이터를 받아 내부 좌표들을 List안에 반환합니다. \n",
    "\n",
    "def line_string_to_coordinates(line_string): \n",
    "    if isinstance(line_string, shapely.geometry.linestring.LineString): \n",
    "        lon, lat = line_string.xy \n",
    "        return [[x, y] for x, y in zip(lon, lat)] \n",
    "    elif isinstance(line_string, shapely.geometry.multilinestring.MultiLineString): \n",
    "        ret = [] \n",
    "        for i in range(len(line_string)): \n",
    "            lon, lat = line_string[i].xy \n",
    "            for x, y in zip(lon, lat): \n",
    "                ret.append([x, y])\n",
    "        return ret \n",
    "\n",
    "def multipolygon_to_coordinates(x): \n",
    "    lon, lat = x[0].exterior.xy \n",
    "    return [[x, y] for x, y in zip(lon, lat)] \n",
    "\n",
    "def polygon_to_coordinates(x): \n",
    "    lon, lat = x.exterior.xy \n",
    "    return [[x, y] for x, y in zip(lon, lat)] \n"
   ]
  },
  {
   "cell_type": "code",
   "execution_count": 122,
   "metadata": {
    "id": "yqdm3b9CJzPN"
   },
   "outputs": [],
   "source": [
    "# 중심점 찾는 함수\n",
    "def multipolygon_to_center_coordinates(x): \n",
    "    lon, lat = x[0].centroid.xy \n",
    "    return [[x, y] for x, y in zip(lon, lat)]\n",
    "def polygon_to_center_coordinates(x): \n",
    "    lon, lat = x.centroid.xy\n",
    "    return [[x, y] for x, y in zip(lon, lat)] "
   ]
  },
  {
   "cell_type": "code",
   "execution_count": 123,
   "metadata": {
    "id": "4_c_XHKLJzPN"
   },
   "outputs": [],
   "source": [
    "# 100X100 grid에서 central point 찾기   \n",
    "def multipolygon_to_center(x):\n",
    "    list1 = []\n",
    "    list2 = []\n",
    "    x['coord_cent']=0\n",
    "    x['geo_cent']=0 \n",
    "    for i in x['geometry']:\n",
    "        cent = [[i[0].centroid.coords[0][0],i[0].centroid.coords[0][1]]]\n",
    "        list1.append(cent)\n",
    "        list2.append(Point(cent[0]))\n",
    "    x['coord_cent'] = pd.DataFrame(list1)\n",
    "    x['geo_cent'] = pd.DataFrame(list2)\n",
    "    return x\n",
    "\n",
    "def polygon_to_center(x):\n",
    "    list1 = []\n",
    "    list2 = []\n",
    "    x['coord_cent']=0\n",
    "    x['geo_cent']=0 \n",
    "    for i in x['geometry']:\n",
    "        cent = [[i.centroid.coords[0][0],i.centroid.coords[0][1]]]\n",
    "        list1.append(cent)\n",
    "        list2.append(Point(cent[0]))\n",
    "    x['coord_cent'] = pd.DataFrame(list1)\n",
    "    x['geo_cent'] = pd.DataFrame(list2)\n",
    "    return x"
   ]
  },
  {
   "cell_type": "code",
   "execution_count": 124,
   "metadata": {
    "id": "To4EBxurJzPO"
   },
   "outputs": [],
   "source": [
    "#link_id를 df_23 link_id에 맞춰주는 함수\n",
    "def link_id_change(data):\n",
    "    data = pd.DataFrame(data).reset_index()\n",
    "    del data['index']\n",
    "    for i in range(len(data)):\n",
    "        data['link_id'][i] = float(str(data['link_id'][i])[0:9])\n",
    "    return data"
   ]
  },
  {
   "cell_type": "markdown",
   "metadata": {
    "id": "YLH9fH_XJzPM"
   },
   "source": [
    "________________________"
   ]
  },
  {
   "cell_type": "markdown",
   "metadata": {
    "id": "qrFFwfIeJzPr"
   },
   "source": [
    "# 6. 과제1 - 분석"
   ]
  },
  {
   "cell_type": "markdown",
   "metadata": {},
   "source": [
    "## 과제1. 어린이 보호구역 외 어린이 교통사고 위험지역 20개소 제시\n",
    "### 6-1) 격자별 교통사고 위험지수 생성 > R 파일 참고\n",
    "### 6-2) 최적화 모델 MCLP와 시뮬레이션을 사용하여 어린이 교통사고 위험지역 20개소 설정 \n",
    "> 최적화 모델 : Maximal Covering Location Problem (MCLP)\n",
    "> - **정의:** MCLP는 최대지역커버문제로, 설비가 커버하는 수요 (covered demand)의 합을 최대화 하면서 주어진 K개의 설비를 세울 위치를 선정하는 문제\n",
    "\n",
    "> - **가정**\n",
    ">    - 수요의 합을 어린이 교통사고 위험 지수의 합으로 함.\n",
    ">    - 설비의 위치가 수요 발생 지점으로부터 일정 거리 Residual 이내에 수요를 커버함.\n",
    ">    - 이때 거리 Residual은 커버리지 거리(covered distance) 라고 함.\n",
    "\n",
    "> - **Mathematical statement**\n",
    ">    - i : 수요 포인트 index\n",
    ">    - j : 설비 후보지역 index\n",
    ">    - I : 수요 포인트 집합\n",
    ">    - J : 설비 후보지역 집합\n",
    ">    - K : 총 설치해야 하는 설비 개수\n",
    ">    - x : 설비 후보 지역 중 위치 j에 설비가 설치되면 1, 그렇지 않으면 0\n",
    ">    - y : 적어도 하나의 설비로 그 포인트가 커버가 되면 1, 그렇지 않으면 0\n",
    "\n",
    "> - **Formulation**\n",
    ">    - 1) : 목적함수, 가중치 w인 수요 포인트를 최대한 많이 커버하게 해라\n",
    ">    - 2) : 수요포인트 i는 설비 후보 지역이 커버하는 거리안에서 적어도 하나 이상의 설비로 부터 커버가 된다. \n",
    ">    - 3) : 총 설치할 설비는 20개이다.\n",
    "\n",
    ">- **simulation**\n",
    ">    - 어린이 보호구역 20곳이 정해질 때, cover 가능한 반경(covered distance)에 따른 cover 가능 지역범위\n",
    ">    - cover 가능한 반경을 100m,150m,200m,250m,300m,400m,500m으로 시험해봄."
   ]
  },
  {
   "cell_type": "code",
   "execution_count": 41,
   "metadata": {
    "scrolled": true
   },
   "outputs": [
    {
     "data": {
      "text/html": [
       "<div>\n",
       "<style scoped>\n",
       "    .dataframe tbody tr th:only-of-type {\n",
       "        vertical-align: middle;\n",
       "    }\n",
       "\n",
       "    .dataframe tbody tr th {\n",
       "        vertical-align: top;\n",
       "    }\n",
       "\n",
       "    .dataframe thead th {\n",
       "        text-align: right;\n",
       "    }\n",
       "</style>\n",
       "<table border=\"1\" class=\"dataframe\">\n",
       "  <thead>\n",
       "    <tr style=\"text-align: right;\">\n",
       "      <th></th>\n",
       "      <th>...1</th>\n",
       "      <th>gid</th>\n",
       "      <th>coord_cent</th>\n",
       "      <th>coordinates</th>\n",
       "      <th>geo_cent</th>\n",
       "      <th>geometry</th>\n",
       "      <th>accident_cnt_02</th>\n",
       "      <th>parking_01</th>\n",
       "      <th>car_cnt_03</th>\n",
       "      <th>pop_total_04</th>\n",
       "      <th>pop_child_05</th>\n",
       "      <th>ratio_child_0405</th>\n",
       "      <th>pop_working_06</th>\n",
       "      <th>pop_elder_07</th>\n",
       "      <th>schoolzone_cctv_cnt_09</th>\n",
       "      <th>road_width_schoolzone_09</th>\n",
       "      <th>kindergarten_cnt_13</th>\n",
       "      <th>manlesscctv_cnt_15</th>\n",
       "      <th>sign_cnt_16</th>\n",
       "      <th>crosswalk_cnt_17</th>\n",
       "      <th>bump_cnt_18</th>\n",
       "      <th>trafficlight_cnt_19</th>\n",
       "      <th>cctv_cnt_20</th>\n",
       "      <th>bus_cnt_22</th>\n",
       "      <th>road_cnt_23</th>\n",
       "      <th>road_maxspeed_23</th>\n",
       "      <th>road_rank_23</th>\n",
       "      <th>road_length_23</th>\n",
       "      <th>road_width_23</th>\n",
       "      <th>road_numcross_23</th>\n",
       "      <th>building_cnt_27</th>\n",
       "      <th>building_level_up_27</th>\n",
       "      <th>building_level_down_27</th>\n",
       "      <th>building_area_28</th>\n",
       "      <th>sports_cnt_29</th>\n",
       "      <th>academy_cnt_30</th>\n",
       "      <th>bicycleroad_21</th>\n",
       "      <th>pop_fluid_810_08</th>\n",
       "      <th>pop_fluid_1416_08</th>\n",
       "      <th>schoolzone_9</th>\n",
       "      <th>school_cnt_10</th>\n",
       "      <th>sidewalk_cnt_21</th>\n",
       "      <th>total_traffic_810_24</th>\n",
       "      <th>total_traffic_1416_24</th>\n",
       "      <th>link_length_24</th>\n",
       "      <th>conjestion_freq_25</th>\n",
       "      <th>conjestion_time_26</th>\n",
       "      <th>bad_bld_27</th>\n",
       "      <th>good_bld_27</th>\n",
       "      <th>intersection_23</th>\n",
       "      <th>link_cnt_23</th>\n",
       "      <th>tunnel_bridge_23</th>\n",
       "      <th>oneway_23</th>\n",
       "      <th>barrier_23</th>\n",
       "      <th>hazard_index</th>\n",
       "    </tr>\n",
       "  </thead>\n",
       "  <tbody>\n",
       "    <tr>\n",
       "      <th>0</th>\n",
       "      <td>0</td>\n",
       "      <td>다사551085</td>\n",
       "      <td>[126.99477586013964, 37.174635450576154]</td>\n",
       "      <td>[[126.99421564681425, 37.17418235770403], [126...</td>\n",
       "      <td>POINT (126.9947758601396 37.17463545057615)</td>\n",
       "      <td>(POLYGON ((126.9942156468143 37.17418235770403...</td>\n",
       "      <td>0</td>\n",
       "      <td>0</td>\n",
       "      <td>0</td>\n",
       "      <td>0</td>\n",
       "      <td>0</td>\n",
       "      <td>0.0</td>\n",
       "      <td>0</td>\n",
       "      <td>0</td>\n",
       "      <td>0</td>\n",
       "      <td>0</td>\n",
       "      <td>0</td>\n",
       "      <td>0</td>\n",
       "      <td>0</td>\n",
       "      <td>0</td>\n",
       "      <td>0</td>\n",
       "      <td>0</td>\n",
       "      <td>0</td>\n",
       "      <td>0</td>\n",
       "      <td>0</td>\n",
       "      <td>0</td>\n",
       "      <td>0</td>\n",
       "      <td>0</td>\n",
       "      <td>0</td>\n",
       "      <td>0</td>\n",
       "      <td>0</td>\n",
       "      <td>0</td>\n",
       "      <td>0</td>\n",
       "      <td>0</td>\n",
       "      <td>0</td>\n",
       "      <td>0</td>\n",
       "      <td>0</td>\n",
       "      <td>0.000000</td>\n",
       "      <td>0.000000</td>\n",
       "      <td>0</td>\n",
       "      <td>0</td>\n",
       "      <td>0</td>\n",
       "      <td>0</td>\n",
       "      <td>0</td>\n",
       "      <td>0</td>\n",
       "      <td>0</td>\n",
       "      <td>0</td>\n",
       "      <td>0</td>\n",
       "      <td>0</td>\n",
       "      <td>0</td>\n",
       "      <td>0</td>\n",
       "      <td>0</td>\n",
       "      <td>0</td>\n",
       "      <td>0</td>\n",
       "      <td>0.023819</td>\n",
       "    </tr>\n",
       "    <tr>\n",
       "      <th>1</th>\n",
       "      <td>1</td>\n",
       "      <td>다사551086</td>\n",
       "      <td>[126.9947698580453, 37.17553683173449]</td>\n",
       "      <td>[[126.99420963816323, 37.17508373885349], [126...</td>\n",
       "      <td>POINT (126.9947698580453 37.17553683173449)</td>\n",
       "      <td>(POLYGON ((126.9942096381632 37.17508373885349...</td>\n",
       "      <td>0</td>\n",
       "      <td>0</td>\n",
       "      <td>0</td>\n",
       "      <td>0</td>\n",
       "      <td>0</td>\n",
       "      <td>0.0</td>\n",
       "      <td>0</td>\n",
       "      <td>0</td>\n",
       "      <td>0</td>\n",
       "      <td>0</td>\n",
       "      <td>0</td>\n",
       "      <td>0</td>\n",
       "      <td>0</td>\n",
       "      <td>0</td>\n",
       "      <td>0</td>\n",
       "      <td>0</td>\n",
       "      <td>0</td>\n",
       "      <td>0</td>\n",
       "      <td>0</td>\n",
       "      <td>0</td>\n",
       "      <td>0</td>\n",
       "      <td>0</td>\n",
       "      <td>0</td>\n",
       "      <td>0</td>\n",
       "      <td>0</td>\n",
       "      <td>0</td>\n",
       "      <td>0</td>\n",
       "      <td>0</td>\n",
       "      <td>0</td>\n",
       "      <td>0</td>\n",
       "      <td>0</td>\n",
       "      <td>0.138583</td>\n",
       "      <td>0.138583</td>\n",
       "      <td>0</td>\n",
       "      <td>0</td>\n",
       "      <td>0</td>\n",
       "      <td>0</td>\n",
       "      <td>0</td>\n",
       "      <td>0</td>\n",
       "      <td>0</td>\n",
       "      <td>0</td>\n",
       "      <td>0</td>\n",
       "      <td>0</td>\n",
       "      <td>0</td>\n",
       "      <td>0</td>\n",
       "      <td>0</td>\n",
       "      <td>0</td>\n",
       "      <td>0</td>\n",
       "      <td>0.166687</td>\n",
       "    </tr>\n",
       "  </tbody>\n",
       "</table>\n",
       "</div>"
      ],
      "text/plain": [
       "   ...1       gid                                coord_cent                                        coordinates                                     geo_cent                                           geometry  accident_cnt_02  parking_01  car_cnt_03  pop_total_04  pop_child_05  ratio_child_0405  pop_working_06  pop_elder_07  schoolzone_cctv_cnt_09  road_width_schoolzone_09  kindergarten_cnt_13  manlesscctv_cnt_15  sign_cnt_16  crosswalk_cnt_17  bump_cnt_18  trafficlight_cnt_19  cctv_cnt_20  bus_cnt_22  road_cnt_23  road_maxspeed_23  road_rank_23  road_length_23  road_width_23  road_numcross_23  building_cnt_27  building_level_up_27  building_level_down_27  building_area_28  sports_cnt_29  academy_cnt_30  bicycleroad_21  pop_fluid_810_08  pop_fluid_1416_08  schoolzone_9  school_cnt_10  sidewalk_cnt_21  total_traffic_810_24  total_traffic_1416_24  link_length_24  conjestion_freq_25  conjestion_time_26  bad_bld_27  good_bld_27  intersection_23  link_cnt_23  tunnel_bridge_23  oneway_23  \\\n",
       "0     0  다사551085  [126.99477586013964, 37.174635450576154]  [[126.99421564681425, 37.17418235770403], [126...  POINT (126.9947758601396 37.17463545057615)  (POLYGON ((126.9942156468143 37.17418235770403...                0           0           0             0             0               0.0               0             0                       0                         0                    0                   0            0                 0            0                    0            0           0            0                 0             0               0              0                 0                0                     0                       0                 0              0               0               0          0.000000           0.000000             0              0                0                     0                      0               0                   0                   0           0            0                0            0                 0          0   \n",
       "1     1  다사551086    [126.9947698580453, 37.17553683173449]  [[126.99420963816323, 37.17508373885349], [126...  POINT (126.9947698580453 37.17553683173449)  (POLYGON ((126.9942096381632 37.17508373885349...                0           0           0             0             0               0.0               0             0                       0                         0                    0                   0            0                 0            0                    0            0           0            0                 0             0               0              0                 0                0                     0                       0                 0              0               0               0          0.138583           0.138583             0              0                0                     0                      0               0                   0                   0           0            0                0            0                 0          0   \n",
       "\n",
       "   barrier_23  hazard_index  \n",
       "0           0      0.023819  \n",
       "1           0      0.166687  "
      ]
     },
     "execution_count": 41,
     "metadata": {},
     "output_type": "execute_result"
    }
   ],
   "source": [
    "#데이터 불러오기\n",
    "data_index = pd.read_excel(current_path+'/input/data_index.xlsx')\n",
    "del data_index['Unnamed: 0']\n",
    "data_index['geo_cent'] = data_index['geo_cent'].apply(wkt.loads)\n",
    "data_index['geometry'] = data_index['geometry'].apply(wkt.loads)\n",
    "data_index.head(2)"
   ]
  },
  {
   "cell_type": "code",
   "execution_count": 52,
   "metadata": {},
   "outputs": [],
   "source": [
    "df_test=data_index.copy()\n",
    "df_test\n",
    "# 100X100 grid에서 central point 찾기\n",
    "df_list = []\n",
    "df_list2 = []\n",
    "for i in df_test['geometry']:\n",
    "    cent = [[i[0].centroid.coords[0][0],i[0].centroid.coords[0][1]]]\n",
    "    df_list.append(cent)\n",
    "    df_list2.append(Point(cent[0]))\n",
    "df_test['coord_cent'] = 0\n",
    "df_test['geo_cent'] = 0\n",
    "df_test['coord_cent']= pd.DataFrame(df_list) # pydeck을 위한 coordinate type\n",
    "df_test['geo_cent'] = df_list2 # geopandas를 위한 geometry type"
   ]
  },
  {
   "cell_type": "code",
   "execution_count": 15,
   "metadata": {},
   "outputs": [],
   "source": [
    "# 최적화 문제 계산을 위한 함수\n",
    "def generate_candidate_sites(points,M=100):\n",
    "    '''\n",
    "    점들의 집합의 convex hull을 가진 M 후보 sites를 생성한다. \n",
    "    입력:\n",
    "        points: (N,2) 크기의 Numpy array\n",
    "        M: 생성해야할 후보 sites의 갯수 \n",
    "    출력:\n",
    "        sites: (M,2) 크기의 Numpy array \n",
    "    '''\n",
    "    hull = ConvexHull(points)\n",
    "    polygon_points = points[hull.vertices]\n",
    "    poly = Polygon(polygon_points)\n",
    "    min_x, min_y, max_x, max_y = poly.bounds\n",
    "    sites = []\n",
    "    while len(sites) < M:\n",
    "        random_point = Point([random.uniform(min_x, max_x),\n",
    "                             random.uniform(min_y, max_y)])\n",
    "        if (random_point.within(poly)):\n",
    "            sites.append(random_point)\n",
    "    return np.array([(p.x,p.y) for p in sites])\n",
    "\n",
    "\n",
    "\n",
    "\n",
    "def generate_candidate_sites(df_result_fin,M=100):\n",
    "    from shapely.geometry import Polygon, Point\n",
    "    sites = []\n",
    "    idx=np.random.choice(np.array(range(0,len(df_result_fin))), M)\n",
    "    for i in range(len(idx)):\n",
    "        random_point = Point(np.array(df_result_fin.iloc[idx]['coord_cent'])[i][0],\n",
    "                             np.array(df_result_fin.iloc[idx]['coord_cent'])[i][1])\n",
    "        sites.append(random_point)\n",
    "    return np.array([(p.x,p.y) for p in sites])\n",
    "\n",
    "def generate_candidate_sites(df_result_fin,Weight,M=100):\n",
    "    sites = []\n",
    "    idx = df_result_fin.sort_values(by = Weight, ascending = False).iloc[1:M].index\n",
    "    for i in range(len(idx)):\n",
    "        random_point = Point(np.array(df_result_fin.loc[idx]['coord_cent'])[i][0],\n",
    "                             np.array(df_result_fin.loc[idx]['coord_cent'])[i][1])\n",
    "        sites.append(random_point)\n",
    "    return np.array([(p.x,p.y) for p in sites])\n",
    "\n",
    "\n",
    "\n",
    "from scipy.spatial import distance_matrix\n",
    "def mclp(points,K,radius,M,df_result_fin,w,Weight):\n",
    "    \n",
    "    \"\"\"\n",
    "    최대 입지 커버 과제 해결하기   \n",
    "    입력:\n",
    "        points: 입력 포인트들, [N,2] 크기의 Numpy array\n",
    "        K: 선정해야하는 sites의 수 \n",
    "        radius: 원의 반경\n",
    "        M: 안에 랜덤하게 생성될 후보 sites의 수\n",
    "        the ConvexHull wrapped by the polygon\n",
    "    출력:\n",
    "        opt_sites: 입지 K 최적화된 sites, [K,2] 크기의 Numpy array\n",
    "        f: 최적화된 값\n",
    "    \"\"\"\n",
    "    print('----- Configurations -----')\n",
    "    print('  Number of points %g' % points.shape[0])\n",
    "    print('  K %g' % K)\n",
    "    print('  Radius %g' % radius)\n",
    "    print('  M %g' % M)\n",
    "    import time\n",
    "    start = time.time()\n",
    "    sites = generate_candidate_sites(df_result_fin,Weight,M)\n",
    "    J = sites.shape[0]\n",
    "    I = points.shape[0]\n",
    "    D = distance_matrix(points,sites)\n",
    "    mask1 = D<=radius\n",
    "    D[mask1]=1\n",
    "    D[~mask1]=0\n",
    "\n",
    "    from mip import Model, xsum, maximize, BINARY\n",
    "\n",
    "    # Build model\n",
    "    m = Model(\"mclp\")\n",
    "    \n",
    "    # Add variables\n",
    "\n",
    "    x = [m.add_var(name = \"x%d\" % j, var_type = BINARY) for j in range(J)]\n",
    "    y = [m.add_var(name = \"y%d\" % i, var_type = BINARY) for i in range(I)]\n",
    "\n",
    "\n",
    "    m.objective = maximize(xsum(w[i]*y[i] for i in range (I)))\n",
    "\n",
    "    m += xsum(x[j] for j in range(J)) == K\n",
    "\n",
    "    for i in range(I):\n",
    "        m += xsum(x[j] for j in np.where(D[i]==1)[0]) >= y[i]\n",
    "\n",
    "    m.max_gap = 0.05\n",
    "    m.optimize(max_seconds=300)\n",
    "    \n",
    "    end = time.time()\n",
    "    print('----- Output -----')\n",
    "    print('  Running time : %s seconds' % float(end-start))\n",
    "    print('  Optimal coverage points: %g' % m.objective_value)\n",
    "\n",
    "    solution = []\n",
    "    for i in range(J):\n",
    "        if x[i].x ==1:\n",
    "            solution.append(int(x[i].name[1:]))\n",
    "    opt_sites = sites[solution]\n",
    "            \n",
    "    return opt_sites,m.objective_value"
   ]
  },
  {
   "cell_type": "code",
   "execution_count": 54,
   "metadata": {
    "scrolled": true
   },
   "outputs": [
    {
     "name": "stdout",
     "output_type": "stream",
     "text": [
      "----- Configurations -----\n",
      "  Number of points 61\n",
      "  K 20\n",
      "  Radius 0.00112689\n",
      "  M 700\n",
      "----- Output -----\n",
      "  Running time : 4.4492409229278564 seconds\n",
      "  Optimal coverage points: 35\n",
      "----- Configurations -----\n",
      "  Number of points 61\n",
      "  K 20\n",
      "  Radius 0.00169033\n",
      "  M 700\n",
      "----- Output -----\n",
      "  Running time : 4.732568025588989 seconds\n",
      "  Optimal coverage points: 42\n",
      "----- Configurations -----\n",
      "  Number of points 61\n",
      "  K 20\n",
      "  Radius 0.00225378\n",
      "  M 700\n",
      "----- Output -----\n",
      "  Running time : 4.605839729309082 seconds\n",
      "  Optimal coverage points: 49\n",
      "----- Configurations -----\n",
      "  Number of points 61\n",
      "  K 20\n",
      "  Radius 0.00281722\n",
      "  M 700\n",
      "----- Output -----\n",
      "  Running time : 4.21390962600708 seconds\n",
      "  Optimal coverage points: 53\n",
      "----- Configurations -----\n",
      "  Number of points 61\n",
      "  K 20\n",
      "  Radius 0.00338066\n",
      "  M 700\n",
      "----- Output -----\n",
      "  Running time : 3.9735546112060547 seconds\n",
      "  Optimal coverage points: 58\n",
      "----- Configurations -----\n",
      "  Number of points 61\n",
      "  K 20\n",
      "  Radius 0.00450755\n",
      "  M 700\n",
      "----- Output -----\n",
      "  Running time : 4.396432876586914 seconds\n",
      "  Optimal coverage points: 61\n",
      "----- Configurations -----\n",
      "  Number of points 61\n",
      "  K 20\n",
      "  Radius 0.00563444\n",
      "  M 700\n",
      "----- Output -----\n",
      "  Running time : 4.287318468093872 seconds\n",
      "  Optimal coverage points: 61\n"
     ]
    }
   ],
   "source": [
    "# 어린이 보호구역이 20대 새로 설정할때, cover 가능한 반경 (covered distance)에 따른 cover 가능 지역범위\n",
    "df_result_fin = df_test[(df_test['schoolzone_9']!=1)&(df_test['pop_total_04']!=0)] #기존의 보호구역이 아니고 인구가 0명이 아닌 격자\n",
    "df_result_fin = df_result_fin[(df_result_fin['total_traffic_810_24']>0)|(df_result_fin['total_traffic_1416_24']>0)] #교통량이 0인 격자제외\n",
    "\n",
    "points = []\n",
    "for i in df_result_fin['coord_cent'] :\n",
    "    points.append(i)\n",
    "\n",
    "w= []\n",
    "for i in df_result_fin['hazard_index'] :\n",
    "    w.append(1)\n",
    "\n",
    "    \n",
    "어린이보호구역20개 = []\n",
    "for i in [ 100,150,200,250,300,400,500]:\n",
    "    radius = (1/88.74/1000)*i\n",
    "    K = 20    #갯수는 20개로 설정\n",
    "    M = 700\n",
    "    opt_sites_org,f = mclp(np.array(points),K,radius,M,df_result_fin,w,'hazard_index')\n",
    "    어린이보호구역20개.append([i,f/len(points)])"
   ]
  },
  {
   "cell_type": "code",
   "execution_count": 47,
   "metadata": {
    "scrolled": true
   },
   "outputs": [
    {
     "data": {
      "text/html": [
       "<div>\n",
       "<style scoped>\n",
       "    .dataframe tbody tr th:only-of-type {\n",
       "        vertical-align: middle;\n",
       "    }\n",
       "\n",
       "    .dataframe tbody tr th {\n",
       "        vertical-align: top;\n",
       "    }\n",
       "\n",
       "    .dataframe thead th {\n",
       "        text-align: right;\n",
       "    }\n",
       "</style>\n",
       "<table border=\"1\" class=\"dataframe\">\n",
       "  <thead>\n",
       "    <tr style=\"text-align: right;\">\n",
       "      <th></th>\n",
       "      <th>covered distance (m)</th>\n",
       "      <th>The Ratio of Coverage Points</th>\n",
       "    </tr>\n",
       "  </thead>\n",
       "  <tbody>\n",
       "    <tr>\n",
       "      <th>0</th>\n",
       "      <td>100</td>\n",
       "      <td>0.573770</td>\n",
       "    </tr>\n",
       "    <tr>\n",
       "      <th>1</th>\n",
       "      <td>150</td>\n",
       "      <td>0.688525</td>\n",
       "    </tr>\n",
       "    <tr>\n",
       "      <th>2</th>\n",
       "      <td>200</td>\n",
       "      <td>0.803279</td>\n",
       "    </tr>\n",
       "    <tr>\n",
       "      <th>3</th>\n",
       "      <td>250</td>\n",
       "      <td>0.868852</td>\n",
       "    </tr>\n",
       "    <tr>\n",
       "      <th>4</th>\n",
       "      <td>300</td>\n",
       "      <td>0.950820</td>\n",
       "    </tr>\n",
       "    <tr>\n",
       "      <th>5</th>\n",
       "      <td>400</td>\n",
       "      <td>1.000000</td>\n",
       "    </tr>\n",
       "    <tr>\n",
       "      <th>6</th>\n",
       "      <td>500</td>\n",
       "      <td>1.000000</td>\n",
       "    </tr>\n",
       "  </tbody>\n",
       "</table>\n",
       "</div>"
      ],
      "text/plain": [
       "   covered distance (m)  The Ratio of Coverage Points\n",
       "0                   100                      0.573770\n",
       "1                   150                      0.688525\n",
       "2                   200                      0.803279\n",
       "3                   250                      0.868852\n",
       "4                   300                      0.950820\n",
       "5                   400                      1.000000\n",
       "6                   500                      1.000000"
      ]
     },
     "execution_count": 47,
     "metadata": {},
     "output_type": "execute_result"
    },
    {
     "data": {
      "image/png": "[encoded data removed]",
      "text/plain": [
       "<Figure size 432x288 with 1 Axes>"
      ]
     },
     "metadata": {
      "needs_background": "light"
     },
     "output_type": "display_data"
    }
   ],
   "source": [
    "어린이보호구역20개 = pd.DataFrame(어린이보호구역20개)\n",
    "어린이보호구역20개.columns = ['covered distance (m)', 'The Ratio of Coverage Points']\n",
    "\n",
    "어린이보호구역20개.plot('covered distance (m)','The Ratio of Coverage Points')\n",
    "어린이보호구역20개"
   ]
  },
  {
   "cell_type": "markdown",
   "metadata": {},
   "source": [
    "### 분석 결과\n",
    "- 어린이 보호구역 20곳을 지정할 경우, 약 **300m 커버가 가능하면 면적의 95%를 커버 가능**하여, coverage distance를 300m으로 지정함."
   ]
  },
  {
   "cell_type": "code",
   "execution_count": 55,
   "metadata": {
    "scrolled": true
   },
   "outputs": [
    {
     "name": "stdout",
     "output_type": "stream",
     "text": [
      "----- Configurations -----\n",
      "  Number of points 61\n",
      "  K 20\n",
      "  Radius 0.00338066\n",
      "  M 5000\n",
      "----- Output -----\n",
      "  Running time : 4.183809995651245 seconds\n",
      "  Optimal coverage points: 23885.9\n"
     ]
    },
    {
     "data": {
      "text/html": [
       "<div>\n",
       "<style scoped>\n",
       "    .dataframe tbody tr th:only-of-type {\n",
       "        vertical-align: middle;\n",
       "    }\n",
       "\n",
       "    .dataframe tbody tr th {\n",
       "        vertical-align: top;\n",
       "    }\n",
       "\n",
       "    .dataframe thead th {\n",
       "        text-align: right;\n",
       "    }\n",
       "</style>\n",
       "<table border=\"1\" class=\"dataframe\">\n",
       "  <thead>\n",
       "    <tr style=\"text-align: right;\">\n",
       "      <th></th>\n",
       "      <th>lon</th>\n",
       "      <th>lat</th>\n",
       "    </tr>\n",
       "  </thead>\n",
       "  <tbody>\n",
       "    <tr>\n",
       "      <th>0</th>\n",
       "      <td>127.047912</td>\n",
       "      <td>37.142399</td>\n",
       "    </tr>\n",
       "    <tr>\n",
       "      <th>1</th>\n",
       "      <td>127.074960</td>\n",
       "      <td>37.137992</td>\n",
       "    </tr>\n",
       "    <tr>\n",
       "      <th>2</th>\n",
       "      <td>127.088520</td>\n",
       "      <td>37.129026</td>\n",
       "    </tr>\n",
       "    <tr>\n",
       "      <th>3</th>\n",
       "      <td>127.081760</td>\n",
       "      <td>37.129904</td>\n",
       "    </tr>\n",
       "    <tr>\n",
       "      <th>4</th>\n",
       "      <td>127.086200</td>\n",
       "      <td>37.141638</td>\n",
       "    </tr>\n",
       "    <tr>\n",
       "      <th>5</th>\n",
       "      <td>127.069341</td>\n",
       "      <td>37.136169</td>\n",
       "    </tr>\n",
       "    <tr>\n",
       "      <th>6</th>\n",
       "      <td>127.081726</td>\n",
       "      <td>37.136214</td>\n",
       "    </tr>\n",
       "    <tr>\n",
       "      <th>7</th>\n",
       "      <td>127.057977</td>\n",
       "      <td>37.154156</td>\n",
       "    </tr>\n",
       "    <tr>\n",
       "      <th>8</th>\n",
       "      <td>127.053436</td>\n",
       "      <td>37.160448</td>\n",
       "    </tr>\n",
       "    <tr>\n",
       "      <th>9</th>\n",
       "      <td>127.042037</td>\n",
       "      <td>37.182940</td>\n",
       "    </tr>\n",
       "    <tr>\n",
       "      <th>10</th>\n",
       "      <td>127.058014</td>\n",
       "      <td>37.147846</td>\n",
       "    </tr>\n",
       "    <tr>\n",
       "      <th>11</th>\n",
       "      <td>127.029561</td>\n",
       "      <td>37.196412</td>\n",
       "    </tr>\n",
       "    <tr>\n",
       "      <th>12</th>\n",
       "      <td>127.061377</td>\n",
       "      <td>37.150563</td>\n",
       "    </tr>\n",
       "    <tr>\n",
       "      <th>13</th>\n",
       "      <td>127.068251</td>\n",
       "      <td>37.129855</td>\n",
       "    </tr>\n",
       "    <tr>\n",
       "      <th>14</th>\n",
       "      <td>127.042016</td>\n",
       "      <td>37.186546</td>\n",
       "    </tr>\n",
       "    <tr>\n",
       "      <th>15</th>\n",
       "      <td>127.064719</td>\n",
       "      <td>37.156885</td>\n",
       "    </tr>\n",
       "    <tr>\n",
       "      <th>16</th>\n",
       "      <td>127.073789</td>\n",
       "      <td>37.146101</td>\n",
       "    </tr>\n",
       "    <tr>\n",
       "      <th>17</th>\n",
       "      <td>127.068169</td>\n",
       "      <td>37.144278</td>\n",
       "    </tr>\n",
       "    <tr>\n",
       "      <th>18</th>\n",
       "      <td>127.069269</td>\n",
       "      <td>37.148789</td>\n",
       "    </tr>\n",
       "    <tr>\n",
       "      <th>19</th>\n",
       "      <td>127.034091</td>\n",
       "      <td>37.192825</td>\n",
       "    </tr>\n",
       "  </tbody>\n",
       "</table>\n",
       "</div>"
      ],
      "text/plain": [
       "           lon        lat\n",
       "0   127.047912  37.142399\n",
       "1   127.074960  37.137992\n",
       "2   127.088520  37.129026\n",
       "3   127.081760  37.129904\n",
       "4   127.086200  37.141638\n",
       "5   127.069341  37.136169\n",
       "6   127.081726  37.136214\n",
       "7   127.057977  37.154156\n",
       "8   127.053436  37.160448\n",
       "9   127.042037  37.182940\n",
       "10  127.058014  37.147846\n",
       "11  127.029561  37.196412\n",
       "12  127.061377  37.150563\n",
       "13  127.068251  37.129855\n",
       "14  127.042016  37.186546\n",
       "15  127.064719  37.156885\n",
       "16  127.073789  37.146101\n",
       "17  127.068169  37.144278\n",
       "18  127.069269  37.148789\n",
       "19  127.034091  37.192825"
      ]
     },
     "execution_count": 55,
     "metadata": {},
     "output_type": "execute_result"
    }
   ],
   "source": [
    "#어린이보호구역\n",
    "df_result_fin = df_test[(df_test['schoolzone_9']!=1)&(df_test['pop_total_04']!=0)]#기존의 보호구역이 아니고 인구가 0명이 아닌 격자\n",
    "df_result_fin = df_result_fin[(df_result_fin['total_traffic_810_24']>0)|(df_result_fin['total_traffic_1416_24']>0)] #교통량이 0인 격자제외\n",
    "\n",
    "\n",
    "points = []\n",
    "for i in df_result_fin['coord_cent'] :\n",
    "    points.append(i)\n",
    "\n",
    "w= []\n",
    "for i in df_result_fin['hazard_index'] :\n",
    "    w.append(i)\n",
    "\n",
    "radius = (1/88.74/1000)*300   \n",
    "K = 20\n",
    "M = 5000\n",
    "\n",
    "opt_sites_org,f = mclp(np.array(points),K,radius,M,df_result_fin,w,'hazard_index')\n",
    "\n",
    "\n",
    "df_opt_boho= pd.DataFrame(opt_sites_org)\n",
    "df_opt_boho.columns = ['lon', 'lat']\n",
    "df_opt_boho"
   ]
  },
  {
   "cell_type": "markdown",
   "metadata": {},
   "source": [
    "### 최종 어린이 교통사고 위험 지역 위도와 경도"
   ]
  },
  {
   "cell_type": "code",
   "execution_count": 57,
   "metadata": {},
   "outputs": [
    {
     "name": "stdout",
     "output_type": "stream",
     "text": [
      "                   lon                 lat\n",
      "0   127.04791187918217  37.142399292429225\n",
      "1   127.07496034355627   37.13799229717368\n",
      "2   127.08852002847024  37.129025980225094\n",
      "3   127.08176042951223  37.129903741433886\n",
      "4   127.08619976262496   37.14163772673714\n",
      "5   127.06934104177783   37.13616918445853\n",
      "6   127.08172570002806   37.13621353179076\n",
      "7   127.05797738681304   37.15415562538593\n",
      "8   127.05343571093319   37.16044848053115\n",
      "9    127.0420374011366   37.18294020620134\n",
      "10  127.05801411193974  37.147845873861364\n",
      "11  127.02956131610273  37.196412414419214\n",
      "12  127.06137663978429   37.15056260426673\n",
      "13  127.06825101629305     37.129855309383\n",
      "14  127.04201563059391   37.18654575000728\n",
      "15  127.06471873904279  37.156884812643504\n",
      "16  127.07378892532097  37.146100821617885\n",
      "17  127.06816905431273   37.14427765222785\n",
      "18   127.0692694929308    37.1487887247176\n",
      "19   127.0340905327171   37.19282469240418\n"
     ]
    }
   ],
   "source": [
    "df_opt_boho['lon'] = df_opt_boho['lon'].astype('str')\n",
    "df_opt_boho['lat'] = df_opt_boho['lat'].astype('str')\n",
    "print(df_opt_boho)"
   ]
  },
  {
   "cell_type": "code",
   "execution_count": null,
   "metadata": {},
   "outputs": [],
   "source": [
    "#result1 엑셀 파일로 따로 저장해두는 코드\n",
    "result1 = df_opt_boho\n",
    "result1.to_excel(current_path+'/input/result1.xlsx')"
   ]
  },
  {
   "cell_type": "markdown",
   "metadata": {},
   "source": [
    "# 7. 과제2 - 데이터 합치기"
   ]
  },
  {
   "cell_type": "markdown",
   "metadata": {},
   "source": [
    "과제1에서 선택된 변수들을 어린이보호구역 격자를 중심으로 모아주는 작업을 했다."
   ]
  },
  {
   "cell_type": "code",
   "execution_count": 9,
   "metadata": {},
   "outputs": [
    {
     "data": {
      "text/html": [
       "<div>\n",
       "<style scoped>\n",
       "    .dataframe tbody tr th:only-of-type {\n",
       "        vertical-align: middle;\n",
       "    }\n",
       "\n",
       "    .dataframe tbody tr th {\n",
       "        vertical-align: top;\n",
       "    }\n",
       "\n",
       "    .dataframe thead th {\n",
       "        text-align: right;\n",
       "    }\n",
       "</style>\n",
       "<table border=\"1\" class=\"dataframe\">\n",
       "  <thead>\n",
       "    <tr style=\"text-align: right;\">\n",
       "      <th></th>\n",
       "      <th>gid</th>\n",
       "      <th>geometry</th>\n",
       "    </tr>\n",
       "  </thead>\n",
       "  <tbody>\n",
       "    <tr>\n",
       "      <th>0</th>\n",
       "      <td>다사571087</td>\n",
       "      <td>POLYGON ((127.016732786552 37.17607914622609, ...</td>\n",
       "    </tr>\n",
       "    <tr>\n",
       "      <th>1</th>\n",
       "      <td>다사579109</td>\n",
       "      <td>POLYGON ((127.0256204615093 37.19594599793077,...</td>\n",
       "    </tr>\n",
       "    <tr>\n",
       "      <th>2</th>\n",
       "      <td>다사580079</td>\n",
       "      <td>POLYGON ((127.0269159008756 37.16890897367342,...</td>\n",
       "    </tr>\n",
       "    <tr>\n",
       "      <th>3</th>\n",
       "      <td>다사584110</td>\n",
       "      <td>POLYGON ((127.0312486767251 37.19686980575049,...</td>\n",
       "    </tr>\n",
       "    <tr>\n",
       "      <th>4</th>\n",
       "      <td>다사586100</td>\n",
       "      <td>POLYGON ((127.0335576719468 37.18786486397038,...</td>\n",
       "    </tr>\n",
       "  </tbody>\n",
       "</table>\n",
       "</div>"
      ],
      "text/plain": [
       "        gid                                           geometry\n",
       "0  다사571087  POLYGON ((127.016732786552 37.17607914622609, ...\n",
       "1  다사579109  POLYGON ((127.0256204615093 37.19594599793077,...\n",
       "2  다사580079  POLYGON ((127.0269159008756 37.16890897367342,...\n",
       "3  다사584110  POLYGON ((127.0312486767251 37.19686980575049,...\n",
       "4  다사586100  POLYGON ((127.0335576719468 37.18786486397038,..."
      ]
     },
     "execution_count": 9,
     "metadata": {},
     "output_type": "execute_result"
    }
   ],
   "source": [
    "#어린이보호구역 격자들만 뽑아 schoolzone_grid로 저장한다.\n",
    "all_data = pd.read_excel(current_path+'/input/all_data.xlsx')\n",
    "del all_data['Unnamed: 0']\n",
    "all_data['geo_cent'] = all_data['geo_cent'].apply(wkt.loads)\n",
    "all_data['geometry'] = all_data['geometry'].apply(wkt.loads)\n",
    "schoolzone_grid = all_data[all_data['schoolzone_9']==1]\n",
    "schoolzone_grid = schoolzone_grid.reset_index(drop=True)\n",
    "schoolzone_grid = schoolzone_grid[['gid','geometry']]\n",
    "\n",
    "for i in range(len(schoolzone_grid)):\n",
    "    schoolzone_grid['geometry'][i] = schoolzone_grid['geometry'][i][0]\n",
    "schoolzone_grid.head() #스쿨존 격자"
   ]
  },
  {
   "cell_type": "code",
   "execution_count": 10,
   "metadata": {},
   "outputs": [],
   "source": [
    "#100m x 100m 격자를 n^2개로 쪼개는 함수\n",
    "def divide_grid(df,n):\n",
    "    '''df: dataframe, n: 한변을 몇개로 쪼갤지'''\n",
    "    num = n**2\n",
    "    n_rows = df.shape[0]*num\n",
    "    result_df = []\n",
    "    for i in range(len(df)): #한 격자에 대해서\n",
    "        minx = min(df['geometry'][i].exterior.xy[0]) #격자의 min x point\n",
    "        maxx = max(df['geometry'][i].exterior.xy[0]) #격자의 max x point\n",
    "        miny = min(df['geometry'][i].exterior.xy[1]) #격자의 min y point\n",
    "        maxy = max(df['geometry'][i].exterior.xy[1]) #격자의 max y point\n",
    "\n",
    "        x = list(np.linspace(minx, maxx, n+1))\n",
    "        y = list(np.linspace(miny, maxy, n+1))\n",
    "        for b in range(len(y)-1):\n",
    "            for a in range(len(x)-1):\n",
    "                pt1 = (x[a], y[b])\n",
    "                pt2 = (x[a+1], y[b])\n",
    "                pt3 = (x[a+1], y[b+1])\n",
    "                pt4 = (x[a], y[b+1])\n",
    "                polygon = Polygon([pt1,pt2,pt3,pt4])\n",
    "                result_df.append(polygon)\n",
    "    result_df = pd.DataFrame(result_df,columns =['geometry'])       \n",
    "    return(result_df)            "
   ]
  },
  {
   "cell_type": "markdown",
   "metadata": {},
   "source": [
    "과제2에서는 각 교통시설물들의 위치 경도, 위도를 추출해야하기때문에 기존 100m x 100m 격자가 한계가 있다고 판단했다.\n",
    "기존의 격자를 **16개의 격자로 잘게 쪼개 25m x 25m 격자로 만들어 교통시설물들의 정확한 위치를 파악하고자 하였다.**"
   ]
  },
  {
   "cell_type": "code",
   "execution_count": 11,
   "metadata": {
    "collapsed": true,
    "jupyter": {
     "outputs_hidden": true
    }
   },
   "outputs": [
    {
     "data": {
      "text/html": [
       "<div>\n",
       "<style scoped>\n",
       "    .dataframe tbody tr th:only-of-type {\n",
       "        vertical-align: middle;\n",
       "    }\n",
       "\n",
       "    .dataframe tbody tr th {\n",
       "        vertical-align: top;\n",
       "    }\n",
       "\n",
       "    .dataframe thead th {\n",
       "        text-align: right;\n",
       "    }\n",
       "</style>\n",
       "<table border=\"1\" class=\"dataframe\">\n",
       "  <thead>\n",
       "    <tr style=\"text-align: right;\">\n",
       "      <th></th>\n",
       "      <th>geometry</th>\n",
       "    </tr>\n",
       "  </thead>\n",
       "  <tbody>\n",
       "    <tr>\n",
       "      <th>0</th>\n",
       "      <td>POLYGON ((127.016727045001 37.17607914622609, ...</td>\n",
       "    </tr>\n",
       "    <tr>\n",
       "      <th>1</th>\n",
       "      <td>POLYGON ((127.0170100955357 37.17607914622609,...</td>\n",
       "    </tr>\n",
       "    <tr>\n",
       "      <th>2</th>\n",
       "      <td>POLYGON ((127.0172931460704 37.17607914622609,...</td>\n",
       "    </tr>\n",
       "    <tr>\n",
       "      <th>3</th>\n",
       "      <td>POLYGON ((127.0175761966052 37.17607914622609,...</td>\n",
       "    </tr>\n",
       "    <tr>\n",
       "      <th>4</th>\n",
       "      <td>POLYGON ((127.016727045001 37.17630563946577, ...</td>\n",
       "    </tr>\n",
       "  </tbody>\n",
       "</table>\n",
       "</div>"
      ],
      "text/plain": [
       "                                            geometry\n",
       "0  POLYGON ((127.016727045001 37.17607914622609, ...\n",
       "1  POLYGON ((127.0170100955357 37.17607914622609,...\n",
       "2  POLYGON ((127.0172931460704 37.17607914622609,...\n",
       "3  POLYGON ((127.0175761966052 37.17607914622609,...\n",
       "4  POLYGON ((127.016727045001 37.17630563946577, ..."
      ]
     },
     "execution_count": 11,
     "metadata": {},
     "output_type": "execute_result"
    }
   ],
   "source": [
    "schoolzone_grid = pd.DataFrame(schoolzone_grid['geometry'])\n",
    "schoolzone_grid_divide = divide_grid(schoolzone_grid,4) #스쿨존 grid 16개로 쪼개기\n",
    "schoolzone_grid_divide.head()"
   ]
  },
  {
   "cell_type": "code",
   "execution_count": 12,
   "metadata": {
    "collapsed": true,
    "jupyter": {
     "outputs_hidden": true
    }
   },
   "outputs": [
    {
     "data": {
      "text/html": [
       "<div>\n",
       "<style scoped>\n",
       "    .dataframe tbody tr th:only-of-type {\n",
       "        vertical-align: middle;\n",
       "    }\n",
       "\n",
       "    .dataframe tbody tr th {\n",
       "        vertical-align: top;\n",
       "    }\n",
       "\n",
       "    .dataframe thead th {\n",
       "        text-align: right;\n",
       "    }\n",
       "</style>\n",
       "<table border=\"1\" class=\"dataframe\">\n",
       "  <thead>\n",
       "    <tr style=\"text-align: right;\">\n",
       "      <th></th>\n",
       "      <th>geometry</th>\n",
       "      <th>coord_cent</th>\n",
       "      <th>geo_cent</th>\n",
       "    </tr>\n",
       "  </thead>\n",
       "  <tbody>\n",
       "    <tr>\n",
       "      <th>0</th>\n",
       "      <td>POLYGON ((127.016727045001 37.17607914622609, ...</td>\n",
       "      <td>[127.01686857026839, 37.17619239284593]</td>\n",
       "      <td>POINT (127.0168685702684 37.17619239284593)</td>\n",
       "    </tr>\n",
       "    <tr>\n",
       "      <th>1</th>\n",
       "      <td>POLYGON ((127.0170100955357 37.17607914622609,...</td>\n",
       "      <td>[127.01715162080306, 37.17619239284593]</td>\n",
       "      <td>POINT (127.0171516208031 37.17619239284593)</td>\n",
       "    </tr>\n",
       "    <tr>\n",
       "      <th>2</th>\n",
       "      <td>POLYGON ((127.0172931460704 37.17607914622609,...</td>\n",
       "      <td>[127.01743467133781, 37.17619239284593]</td>\n",
       "      <td>POINT (127.0174346713378 37.17619239284593)</td>\n",
       "    </tr>\n",
       "    <tr>\n",
       "      <th>3</th>\n",
       "      <td>POLYGON ((127.0175761966052 37.17607914622609,...</td>\n",
       "      <td>[127.01771772187256, 37.17619239284593]</td>\n",
       "      <td>POINT (127.0177177218726 37.17619239284593)</td>\n",
       "    </tr>\n",
       "    <tr>\n",
       "      <th>4</th>\n",
       "      <td>POLYGON ((127.016727045001 37.17630563946577, ...</td>\n",
       "      <td>[127.01686857026839, 37.17641888608561]</td>\n",
       "      <td>POINT (127.0168685702684 37.17641888608561)</td>\n",
       "    </tr>\n",
       "  </tbody>\n",
       "</table>\n",
       "</div>"
      ],
      "text/plain": [
       "                                            geometry                               coord_cent                                     geo_cent\n",
       "0  POLYGON ((127.016727045001 37.17607914622609, ...  [127.01686857026839, 37.17619239284593]  POINT (127.0168685702684 37.17619239284593)\n",
       "1  POLYGON ((127.0170100955357 37.17607914622609,...  [127.01715162080306, 37.17619239284593]  POINT (127.0171516208031 37.17619239284593)\n",
       "2  POLYGON ((127.0172931460704 37.17607914622609,...  [127.01743467133781, 37.17619239284593]  POINT (127.0174346713378 37.17619239284593)\n",
       "3  POLYGON ((127.0175761966052 37.17607914622609,...  [127.01771772187256, 37.17619239284593]  POINT (127.0177177218726 37.17619239284593)\n",
       "4  POLYGON ((127.016727045001 37.17630563946577, ...  [127.01686857026839, 37.17641888608561]  POINT (127.0168685702684 37.17641888608561)"
      ]
     },
     "execution_count": 12,
     "metadata": {},
     "output_type": "execute_result"
    }
   ],
   "source": [
    "#grid 변수에 각 격자의 중심점 변수인 geo_cent, coord_cent를 생성했다.\n",
    "df_list = []\n",
    "df_list2 = []\n",
    "for i in schoolzone_grid_divide['geometry']:\n",
    "    cent = [[i.centroid.coords[0][0],i.centroid.coords[0][1]]]\n",
    "    df_list.append(cent)\n",
    "    df_list2.append(Point(cent[0]))\n",
    "schoolzone_grid_divide['coord_cent'] = 0\n",
    "schoolzone_grid_divide['geo_cent'] = 0\n",
    "schoolzone_grid_divide['coord_cent']= pd.DataFrame(df_list) # pydeck을 위한 coordinate type\n",
    "schoolzone_grid_divide['geo_cent'] = df_list2 # geopandas를 위한 geometry type\n",
    "\n",
    "schoolzone_grid_divide.head()"
   ]
  },
  {
   "cell_type": "code",
   "execution_count": 28,
   "metadata": {},
   "outputs": [
    {
     "data": {
      "text/html": [
       "<div>\n",
       "<style scoped>\n",
       "    .dataframe tbody tr th:only-of-type {\n",
       "        vertical-align: middle;\n",
       "    }\n",
       "\n",
       "    .dataframe tbody tr th {\n",
       "        vertical-align: top;\n",
       "    }\n",
       "\n",
       "    .dataframe thead th {\n",
       "        text-align: right;\n",
       "    }\n",
       "</style>\n",
       "<table border=\"1\" class=\"dataframe\">\n",
       "  <thead>\n",
       "    <tr style=\"text-align: right;\">\n",
       "      <th></th>\n",
       "      <th>geometry</th>\n",
       "      <th>coord_cent</th>\n",
       "      <th>geo_cent</th>\n",
       "    </tr>\n",
       "  </thead>\n",
       "  <tbody>\n",
       "    <tr>\n",
       "      <th>0</th>\n",
       "      <td>POLYGON ((127.01673 37.17608, 127.01701 37.176...</td>\n",
       "      <td>[127.01686857026839, 37.17619239284593]</td>\n",
       "      <td>POINT (127.0168685702684 37.17619239284593)</td>\n",
       "    </tr>\n",
       "    <tr>\n",
       "      <th>1</th>\n",
       "      <td>POLYGON ((127.01701 37.17608, 127.01729 37.176...</td>\n",
       "      <td>[127.01715162080306, 37.17619239284593]</td>\n",
       "      <td>POINT (127.0171516208031 37.17619239284593)</td>\n",
       "    </tr>\n",
       "    <tr>\n",
       "      <th>2</th>\n",
       "      <td>POLYGON ((127.01729 37.17608, 127.01758 37.176...</td>\n",
       "      <td>[127.01743467133781, 37.17619239284593]</td>\n",
       "      <td>POINT (127.0174346713378 37.17619239284593)</td>\n",
       "    </tr>\n",
       "    <tr>\n",
       "      <th>3</th>\n",
       "      <td>POLYGON ((127.01758 37.17608, 127.01786 37.176...</td>\n",
       "      <td>[127.01771772187256, 37.17619239284593]</td>\n",
       "      <td>POINT (127.0177177218726 37.17619239284593)</td>\n",
       "    </tr>\n",
       "    <tr>\n",
       "      <th>4</th>\n",
       "      <td>POLYGON ((127.01673 37.17631, 127.01701 37.176...</td>\n",
       "      <td>[127.01686857026839, 37.17641888608561]</td>\n",
       "      <td>POINT (127.0168685702684 37.17641888608561)</td>\n",
       "    </tr>\n",
       "  </tbody>\n",
       "</table>\n",
       "</div>"
      ],
      "text/plain": [
       "                                            geometry                               coord_cent                                     geo_cent\n",
       "0  POLYGON ((127.01673 37.17608, 127.01701 37.176...  [127.01686857026839, 37.17619239284593]  POINT (127.0168685702684 37.17619239284593)\n",
       "1  POLYGON ((127.01701 37.17608, 127.01729 37.176...  [127.01715162080306, 37.17619239284593]  POINT (127.0171516208031 37.17619239284593)\n",
       "2  POLYGON ((127.01729 37.17608, 127.01758 37.176...  [127.01743467133781, 37.17619239284593]  POINT (127.0174346713378 37.17619239284593)\n",
       "3  POLYGON ((127.01758 37.17608, 127.01786 37.176...  [127.01771772187256, 37.17619239284593]  POINT (127.0177177218726 37.17619239284593)\n",
       "4  POLYGON ((127.01673 37.17631, 127.01701 37.176...  [127.01686857026839, 37.17641888608561]  POINT (127.0168685702684 37.17641888608561)"
      ]
     },
     "execution_count": 28,
     "metadata": {},
     "output_type": "execute_result"
    }
   ],
   "source": [
    "#schoolzone_grid_divide를 GeoDataFrame으로 만들어주어 다른 변수들이 붙을 수 있도록 만들어주었다.\n",
    "schoolzone_grid_divide = GeoDataFrame(schoolzone_grid_divide)\n",
    "schoolzone_grid_divide.head()"
   ]
  },
  {
   "cell_type": "markdown",
   "metadata": {},
   "source": [
    "아래에서 데이터를 합치는 방법은 **'5. 과제1 - 데이터 합치기'**와 동일하기때문에 설명은 생략한다."
   ]
  },
  {
   "cell_type": "markdown",
   "metadata": {},
   "source": [
    "- gid: geometry id 변수"
   ]
  },
  {
   "cell_type": "code",
   "execution_count": 64,
   "metadata": {
    "collapsed": true,
    "jupyter": {
     "outputs_hidden": true
    }
   },
   "outputs": [
    {
     "data": {
      "text/html": [
       "<div>\n",
       "<style scoped>\n",
       "    .dataframe tbody tr th:only-of-type {\n",
       "        vertical-align: middle;\n",
       "    }\n",
       "\n",
       "    .dataframe tbody tr th {\n",
       "        vertical-align: top;\n",
       "    }\n",
       "\n",
       "    .dataframe thead th {\n",
       "        text-align: right;\n",
       "    }\n",
       "</style>\n",
       "<table border=\"1\" class=\"dataframe\">\n",
       "  <thead>\n",
       "    <tr style=\"text-align: right;\">\n",
       "      <th></th>\n",
       "      <th>geometry</th>\n",
       "      <th>coord_cent</th>\n",
       "      <th>geo_cent</th>\n",
       "      <th>accident_02</th>\n",
       "      <th>schoolzone_cctv_cnt_09</th>\n",
       "      <th>bump_cnt_18</th>\n",
       "      <th>barrier_23</th>\n",
       "      <th>sign_cnt_16</th>\n",
       "      <th>gid</th>\n",
       "    </tr>\n",
       "  </thead>\n",
       "  <tbody>\n",
       "    <tr>\n",
       "      <th>0</th>\n",
       "      <td>POLYGON ((127.01673 37.17608, 127.01701 37.176...</td>\n",
       "      <td>[127.01686857026839, 37.17619239284593]</td>\n",
       "      <td>POINT (127.0168685702684 37.17619239284593)</td>\n",
       "      <td>0</td>\n",
       "      <td>0</td>\n",
       "      <td>0</td>\n",
       "      <td>0</td>\n",
       "      <td>0</td>\n",
       "      <td>다사571087</td>\n",
       "    </tr>\n",
       "    <tr>\n",
       "      <th>1</th>\n",
       "      <td>POLYGON ((127.01701 37.17608, 127.01729 37.176...</td>\n",
       "      <td>[127.01715162080306, 37.17619239284593]</td>\n",
       "      <td>POINT (127.0171516208031 37.17619239284593)</td>\n",
       "      <td>0</td>\n",
       "      <td>0</td>\n",
       "      <td>0</td>\n",
       "      <td>0</td>\n",
       "      <td>0</td>\n",
       "      <td>다사571087</td>\n",
       "    </tr>\n",
       "    <tr>\n",
       "      <th>2</th>\n",
       "      <td>POLYGON ((127.01729 37.17608, 127.01758 37.176...</td>\n",
       "      <td>[127.01743467133781, 37.17619239284593]</td>\n",
       "      <td>POINT (127.0174346713378 37.17619239284593)</td>\n",
       "      <td>0</td>\n",
       "      <td>0</td>\n",
       "      <td>0</td>\n",
       "      <td>0</td>\n",
       "      <td>0</td>\n",
       "      <td>다사571087</td>\n",
       "    </tr>\n",
       "    <tr>\n",
       "      <th>3</th>\n",
       "      <td>POLYGON ((127.01758 37.17608, 127.01786 37.176...</td>\n",
       "      <td>[127.01771772187256, 37.17619239284593]</td>\n",
       "      <td>POINT (127.0177177218726 37.17619239284593)</td>\n",
       "      <td>0</td>\n",
       "      <td>0</td>\n",
       "      <td>0</td>\n",
       "      <td>0</td>\n",
       "      <td>0</td>\n",
       "      <td>다사571087</td>\n",
       "    </tr>\n",
       "    <tr>\n",
       "      <th>4</th>\n",
       "      <td>POLYGON ((127.01673 37.17631, 127.01701 37.176...</td>\n",
       "      <td>[127.01686857026839, 37.17641888608561]</td>\n",
       "      <td>POINT (127.0168685702684 37.17641888608561)</td>\n",
       "      <td>0</td>\n",
       "      <td>0</td>\n",
       "      <td>0</td>\n",
       "      <td>0</td>\n",
       "      <td>0</td>\n",
       "      <td>다사571087</td>\n",
       "    </tr>\n",
       "  </tbody>\n",
       "</table>\n",
       "</div>"
      ],
      "text/plain": [
       "                                            geometry                               coord_cent                                     geo_cent  accident_02  schoolzone_cctv_cnt_09  bump_cnt_18  barrier_23  sign_cnt_16       gid\n",
       "0  POLYGON ((127.01673 37.17608, 127.01701 37.176...  [127.01686857026839, 37.17619239284593]  POINT (127.0168685702684 37.17619239284593)            0                       0            0           0            0  다사571087\n",
       "1  POLYGON ((127.01701 37.17608, 127.01729 37.176...  [127.01715162080306, 37.17619239284593]  POINT (127.0171516208031 37.17619239284593)            0                       0            0           0            0  다사571087\n",
       "2  POLYGON ((127.01729 37.17608, 127.01758 37.176...  [127.01743467133781, 37.17619239284593]  POINT (127.0174346713378 37.17619239284593)            0                       0            0           0            0  다사571087\n",
       "3  POLYGON ((127.01758 37.17608, 127.01786 37.176...  [127.01771772187256, 37.17619239284593]  POINT (127.0177177218726 37.17619239284593)            0                       0            0           0            0  다사571087\n",
       "4  POLYGON ((127.01673 37.17631, 127.01701 37.176...  [127.01686857026839, 37.17641888608561]  POINT (127.0168685702684 37.17641888608561)            0                       0            0           0            0  다사571087"
      ]
     },
     "execution_count": 64,
     "metadata": {},
     "output_type": "execute_result"
    }
   ],
   "source": [
    "#gid\n",
    "schoolzone_grid_divide['gid'] = 0\n",
    "for i in range(len(schoolzone_grid_divide)):\n",
    "    pt = schoolzone_grid_divide['geo_cent'][i]\n",
    "    for j in range(len(df_02)):\n",
    "        if schoolzone_grid_divide['geo_cent'][i].within(df_02['geometry'][j]):\n",
    "            schoolzone_grid_divide['gid'][i] = df_02['gid'][j] \n",
    "\n",
    "schoolzone_grid_divide.head()"
   ]
  },
  {
   "cell_type": "markdown",
   "metadata": {},
   "source": [
    "- accident_02: 사고건수 변수"
   ]
  },
  {
   "cell_type": "code",
   "execution_count": 42,
   "metadata": {
    "collapsed": true,
    "jupyter": {
     "outputs_hidden": true
    }
   },
   "outputs": [
    {
     "data": {
      "text/html": [
       "<div>\n",
       "<style scoped>\n",
       "    .dataframe tbody tr th:only-of-type {\n",
       "        vertical-align: middle;\n",
       "    }\n",
       "\n",
       "    .dataframe tbody tr th {\n",
       "        vertical-align: top;\n",
       "    }\n",
       "\n",
       "    .dataframe thead th {\n",
       "        text-align: right;\n",
       "    }\n",
       "</style>\n",
       "<table border=\"1\" class=\"dataframe\">\n",
       "  <thead>\n",
       "    <tr style=\"text-align: right;\">\n",
       "      <th></th>\n",
       "      <th>geometry</th>\n",
       "      <th>coord_cent</th>\n",
       "      <th>geo_cent</th>\n",
       "      <th>accident_02</th>\n",
       "    </tr>\n",
       "  </thead>\n",
       "  <tbody>\n",
       "    <tr>\n",
       "      <th>0</th>\n",
       "      <td>POLYGON ((127.01673 37.17608, 127.01701 37.176...</td>\n",
       "      <td>[127.01686857026839, 37.17619239284593]</td>\n",
       "      <td>POINT (127.0168685702684 37.17619239284593)</td>\n",
       "      <td>0</td>\n",
       "    </tr>\n",
       "    <tr>\n",
       "      <th>1</th>\n",
       "      <td>POLYGON ((127.01701 37.17608, 127.01729 37.176...</td>\n",
       "      <td>[127.01715162080306, 37.17619239284593]</td>\n",
       "      <td>POINT (127.0171516208031 37.17619239284593)</td>\n",
       "      <td>0</td>\n",
       "    </tr>\n",
       "    <tr>\n",
       "      <th>2</th>\n",
       "      <td>POLYGON ((127.01729 37.17608, 127.01758 37.176...</td>\n",
       "      <td>[127.01743467133781, 37.17619239284593]</td>\n",
       "      <td>POINT (127.0174346713378 37.17619239284593)</td>\n",
       "      <td>0</td>\n",
       "    </tr>\n",
       "    <tr>\n",
       "      <th>3</th>\n",
       "      <td>POLYGON ((127.01758 37.17608, 127.01786 37.176...</td>\n",
       "      <td>[127.01771772187256, 37.17619239284593]</td>\n",
       "      <td>POINT (127.0177177218726 37.17619239284593)</td>\n",
       "      <td>0</td>\n",
       "    </tr>\n",
       "    <tr>\n",
       "      <th>4</th>\n",
       "      <td>POLYGON ((127.01673 37.17631, 127.01701 37.176...</td>\n",
       "      <td>[127.01686857026839, 37.17641888608561]</td>\n",
       "      <td>POINT (127.0168685702684 37.17641888608561)</td>\n",
       "      <td>0</td>\n",
       "    </tr>\n",
       "  </tbody>\n",
       "</table>\n",
       "</div>"
      ],
      "text/plain": [
       "                                            geometry                               coord_cent                                     geo_cent  accident_02\n",
       "0  POLYGON ((127.01673 37.17608, 127.01701 37.176...  [127.01686857026839, 37.17619239284593]  POINT (127.0168685702684 37.17619239284593)            0\n",
       "1  POLYGON ((127.01701 37.17608, 127.01729 37.176...  [127.01715162080306, 37.17619239284593]  POINT (127.0171516208031 37.17619239284593)            0\n",
       "2  POLYGON ((127.01729 37.17608, 127.01758 37.176...  [127.01743467133781, 37.17619239284593]  POINT (127.0174346713378 37.17619239284593)            0\n",
       "3  POLYGON ((127.01758 37.17608, 127.01786 37.176...  [127.01771772187256, 37.17619239284593]  POINT (127.0177177218726 37.17619239284593)            0\n",
       "4  POLYGON ((127.01673 37.17631, 127.01701 37.176...  [127.01686857026839, 37.17641888608561]  POINT (127.0168685702684 37.17641888608561)            0"
      ]
     },
     "execution_count": 42,
     "metadata": {},
     "output_type": "execute_result"
    }
   ],
   "source": [
    "#accident_02\n",
    "df_02 = gpd.read_file(current_path+'/input/2.오산시_어린이교통사고_격자.geojson')\n",
    "schoolzone_grid_divide['accident_02'] = 0\n",
    "for i in range(len(schoolzone_grid_divide)):\n",
    "    pt = schoolzone_grid_divide['geo_cent'][i]\n",
    "    for j in range(len(df_02)):\n",
    "        if schoolzone_grid_divide['geo_cent'][i].within(df_02['geometry'][j]):\n",
    "            schoolzone_grid_divide['accident_02'][i] = df_02['accident_cnt'][j] \n",
    "\n",
    "schoolzone_grid_divide.head()"
   ]
  },
  {
   "cell_type": "markdown",
   "metadata": {},
   "source": [
    "- schoolzone_cctv_cnt_09: 어린이구역내 cctv 개수"
   ]
  },
  {
   "cell_type": "code",
   "execution_count": 44,
   "metadata": {},
   "outputs": [],
   "source": [
    "df_09 = pd.read_csv(current_path+'/input/9.오산시_어린이보호구역.csv')\n",
    "df_09_schoolzone = []\n",
    "for i in range(len(df_09)):\n",
    "    df_09_schoolzone.append([df_09.loc[i,'CCTV설치대수'],df_09.loc[i,'보호구역도로폭'],\n",
    "                             Point(df_09.loc[i,'보호구역_경도'],df_09.loc[i,'보호구역_위도'])])\n",
    "\n",
    "df_09_schoolzone = pd.DataFrame(df_09_schoolzone)\n",
    "df_09_schoolzone.columns = [\"CCTV설치대수\", '보호구역도로폭',\"geometry\"]\n",
    "df_09_schoolzone = df_09_schoolzone.rename(columns = {'CCTV설치대수':'cctv_cnt_09', '보호구역도로폭':'road_width_schoolzone_09'})"
   ]
  },
  {
   "cell_type": "code",
   "execution_count": 45,
   "metadata": {
    "collapsed": true,
    "jupyter": {
     "outputs_hidden": true
    }
   },
   "outputs": [
    {
     "data": {
      "text/html": [
       "<div>\n",
       "<style scoped>\n",
       "    .dataframe tbody tr th:only-of-type {\n",
       "        vertical-align: middle;\n",
       "    }\n",
       "\n",
       "    .dataframe tbody tr th {\n",
       "        vertical-align: top;\n",
       "    }\n",
       "\n",
       "    .dataframe thead th {\n",
       "        text-align: right;\n",
       "    }\n",
       "</style>\n",
       "<table border=\"1\" class=\"dataframe\">\n",
       "  <thead>\n",
       "    <tr style=\"text-align: right;\">\n",
       "      <th></th>\n",
       "      <th>geometry</th>\n",
       "      <th>coord_cent</th>\n",
       "      <th>geo_cent</th>\n",
       "      <th>accident_02</th>\n",
       "      <th>schoolzone_cctv_cnt_09</th>\n",
       "    </tr>\n",
       "  </thead>\n",
       "  <tbody>\n",
       "    <tr>\n",
       "      <th>0</th>\n",
       "      <td>POLYGON ((127.01673 37.17608, 127.01701 37.176...</td>\n",
       "      <td>[127.01686857026839, 37.17619239284593]</td>\n",
       "      <td>POINT (127.0168685702684 37.17619239284593)</td>\n",
       "      <td>0</td>\n",
       "      <td>0</td>\n",
       "    </tr>\n",
       "    <tr>\n",
       "      <th>1</th>\n",
       "      <td>POLYGON ((127.01701 37.17608, 127.01729 37.176...</td>\n",
       "      <td>[127.01715162080306, 37.17619239284593]</td>\n",
       "      <td>POINT (127.0171516208031 37.17619239284593)</td>\n",
       "      <td>0</td>\n",
       "      <td>0</td>\n",
       "    </tr>\n",
       "    <tr>\n",
       "      <th>2</th>\n",
       "      <td>POLYGON ((127.01729 37.17608, 127.01758 37.176...</td>\n",
       "      <td>[127.01743467133781, 37.17619239284593]</td>\n",
       "      <td>POINT (127.0174346713378 37.17619239284593)</td>\n",
       "      <td>0</td>\n",
       "      <td>0</td>\n",
       "    </tr>\n",
       "    <tr>\n",
       "      <th>3</th>\n",
       "      <td>POLYGON ((127.01758 37.17608, 127.01786 37.176...</td>\n",
       "      <td>[127.01771772187256, 37.17619239284593]</td>\n",
       "      <td>POINT (127.0177177218726 37.17619239284593)</td>\n",
       "      <td>0</td>\n",
       "      <td>0</td>\n",
       "    </tr>\n",
       "    <tr>\n",
       "      <th>4</th>\n",
       "      <td>POLYGON ((127.01673 37.17631, 127.01701 37.176...</td>\n",
       "      <td>[127.01686857026839, 37.17641888608561]</td>\n",
       "      <td>POINT (127.0168685702684 37.17641888608561)</td>\n",
       "      <td>0</td>\n",
       "      <td>0</td>\n",
       "    </tr>\n",
       "  </tbody>\n",
       "</table>\n",
       "</div>"
      ],
      "text/plain": [
       "                                            geometry                               coord_cent                                     geo_cent  accident_02  schoolzone_cctv_cnt_09\n",
       "0  POLYGON ((127.01673 37.17608, 127.01701 37.176...  [127.01686857026839, 37.17619239284593]  POINT (127.0168685702684 37.17619239284593)            0                       0\n",
       "1  POLYGON ((127.01701 37.17608, 127.01729 37.176...  [127.01715162080306, 37.17619239284593]  POINT (127.0171516208031 37.17619239284593)            0                       0\n",
       "2  POLYGON ((127.01729 37.17608, 127.01758 37.176...  [127.01743467133781, 37.17619239284593]  POINT (127.0174346713378 37.17619239284593)            0                       0\n",
       "3  POLYGON ((127.01758 37.17608, 127.01786 37.176...  [127.01771772187256, 37.17619239284593]  POINT (127.0177177218726 37.17619239284593)            0                       0\n",
       "4  POLYGON ((127.01673 37.17631, 127.01701 37.176...  [127.01686857026839, 37.17641888608561]  POINT (127.0168685702684 37.17641888608561)            0                       0"
      ]
     },
     "execution_count": 45,
     "metadata": {},
     "output_type": "execute_result"
    }
   ],
   "source": [
    "#merge\n",
    "# df_09 데이터는 point가 격자안에 있는지의 유무로 merge\n",
    "schoolzone_grid_divide['schoolzone_cctv_cnt_09'] = 0\n",
    "for j in range(schoolzone_grid_divide['geometry'].shape[0]): #grid polygon\n",
    "    for i in range(df_09_schoolzone['geometry'].shape[0]): #point\n",
    "        pt = df_09_schoolzone['geometry'][i]\n",
    "        if pt.within(schoolzone_grid_divide['geometry'][j]):\n",
    "            schoolzone_grid_divide['schoolzone_cctv_cnt_09'][j] = df_09_schoolzone['cctv_cnt_09'][i]\n",
    "\n",
    "schoolzone_grid_divide.head()"
   ]
  },
  {
   "cell_type": "markdown",
   "metadata": {},
   "source": [
    "- bump_cnt_18: 격자내 과속방지턱 개수"
   ]
  },
  {
   "cell_type": "code",
   "execution_count": 49,
   "metadata": {},
   "outputs": [],
   "source": [
    "#전처리\n",
    "df_18 = pd.read_csv(current_path+'/input/18.오산시_과속방지턱표준데이터.csv')\n",
    "df_18['count'] = 1\n",
    "df_18_bump = []\n",
    "for i in range(len(df_18)):\n",
    "    df_18_bump.append([df_18.loc[i,'과속방지턱높이'], df_18.loc[i,'과속방지턱폭'], df_18.loc[i,'과속방지턱연장'],\n",
    "                      df_18.loc[i,'count'],Point(df_18.loc[i,'설치위치_경도'],df_18.loc[i,'설치위치_위도'])])\n",
    "    \n",
    "df_18_bump = pd.DataFrame(df_18_bump)\n",
    "df_18_bump.columns = ['bump_height_18', 'bump_width_18', 'bump_extension_18',\n",
    "                      \"bump_cnt_18\",\"geometry\"]"
   ]
  },
  {
   "cell_type": "code",
   "execution_count": 50,
   "metadata": {},
   "outputs": [],
   "source": [
    "#merge\n",
    "# df_18 데이터는 point가 격자안에 있는지의 유무로 merge\n",
    "#과속방지턱 개수\n",
    "schoolzone_grid_divide['bump_cnt_18'] = 0\n",
    "for j in range(schoolzone_grid_divide['geometry'].shape[0]): #geometry\n",
    "    bumpcnt = 0\n",
    "    for i in range(df_18_bump['geometry'].shape[0]): #point\n",
    "        pt = df_18_bump['geometry'][i]\n",
    "        if pt.within(schoolzone_grid_divide['geometry'][j]):\n",
    "            bumpcnt = bumpcnt + 1\n",
    "    schoolzone_grid_divide['bump_cnt_18'][j] = bumpcnt"
   ]
  },
  {
   "cell_type": "markdown",
   "metadata": {},
   "source": [
    "- barrier_23: 격자내 중앙분리대/전체도로 비율"
   ]
  },
  {
   "cell_type": "code",
   "execution_count": 53,
   "metadata": {},
   "outputs": [],
   "source": [
    "#전처리\n",
    "#중심점 잡기\n",
    "df_23 = gpd.read_file(current_path+'/input/23.오산시_상세도로망_LV6.geojson')\n",
    "df_23['coordinate'] = 0\n",
    "df_23['coordinate'] = df_23['coordinate'].astype('object')\n",
    "for i in range(len(df_23)):\n",
    "    multiline = df_23['geometry'][i]\n",
    "    multilinelist = line_string_to_coordinates(multiline)\n",
    "    length = np.shape(multilinelist)[0]\n",
    "    x = 0\n",
    "    y = 0\n",
    "    for j in range(length):\n",
    "        x = x + multilinelist[j][0]\n",
    "        y = y + multilinelist[j][1]\n",
    "    df_23['coordinate'][i] = Point(x/length,y/length)\n",
    "    \n",
    "del df_23['geometry']\n",
    "df_23 = df_23.rename(columns = {'coordinate':'geometry'})"
   ]
  },
  {
   "cell_type": "code",
   "execution_count": 55,
   "metadata": {},
   "outputs": [],
   "source": [
    "barrier = df_23[['barrier','geometry']]\n",
    "barrier['count'] = 0\n",
    "\n",
    "for i in range(len(barrier)):\n",
    "    if barrier['barrier'][i] != '0':\n",
    "        barrier['count'][i] = 1"
   ]
  },
  {
   "cell_type": "code",
   "execution_count": 56,
   "metadata": {},
   "outputs": [],
   "source": [
    "# df_23 데이터는 point가 격자안에 있는지의 유무로 merge\n",
    "#중앙분리대/전체도로 비율\n",
    "schoolzone_grid_divide['barrier_23'] = 0\n",
    "\n",
    "for j in range(schoolzone_grid_divide['geometry'].shape[0]): #geometry\n",
    "    barriercount = 0 #중앙분리대수\n",
    "    cnt = 0 #전체도로수\n",
    "    for i in range(barrier['geometry'].shape[0]): #point\n",
    "        pt = barrier['geometry'][i]\n",
    "        if pt.within(schoolzone_grid_divide['geometry'][j]):\n",
    "            cnt = cnt+1\n",
    "            barriercount = barriercount + barrier['count'][i]\n",
    "    \n",
    "    if cnt != 0:\n",
    "        ratio = barriercount/cnt\n",
    "        schoolzone_grid_divide['barrier_23'][j] = ratio\n",
    "    else:\n",
    "        schoolzone_grid_divide['barrier_23'][j] = 0"
   ]
  },
  {
   "cell_type": "markdown",
   "metadata": {},
   "source": [
    "- sign_cnt_16: 격자내 표지판 개수"
   ]
  },
  {
   "cell_type": "code",
   "execution_count": 58,
   "metadata": {},
   "outputs": [],
   "source": [
    "#전처리\n",
    "df_16 = pd.read_csv(current_path+'/input/16.오산시_도로안전표지표준데이터.csv')\n",
    "df_16['count'] = 1\n",
    "df_16_sign = []\n",
    "for i in range(len(df_16)):\n",
    "    df_16_sign.append([df_16.loc[i,'count'],Point(df_16.loc[i,'lon'],df_16.loc[i,'lat'])])\n",
    "    \n",
    "df_16_sign = pd.DataFrame(df_16_sign)\n",
    "df_16_sign.columns = [\"sign_cnt_16\",\"geometry\"]"
   ]
  },
  {
   "cell_type": "code",
   "execution_count": 59,
   "metadata": {},
   "outputs": [],
   "source": [
    "#merge\n",
    "# df_16_sign 데이터는 point가 격자안에 있는지의 유무로 merge\n",
    "#표지판 개수\n",
    "schoolzone_grid_divide['sign_cnt_16'] = 0\n",
    "for j in range(schoolzone_grid_divide['geometry'].shape[0]): #geometry\n",
    "    sg = 0\n",
    "    for i in range(df_16_sign['geometry'].shape[0]): #point\n",
    "        pt = df_16_sign['geometry'][i]\n",
    "        if pt.within(schoolzone_grid_divide['geometry'][j]):\n",
    "            sg = sg+ 1\n",
    "    schoolzone_grid_divide['sign_cnt_16'][j] = sg"
   ]
  },
  {
   "cell_type": "markdown",
   "metadata": {},
   "source": [
    "- pop_total_04: 격자내 총인구수 "
   ]
  },
  {
   "cell_type": "code",
   "execution_count": 63,
   "metadata": {
    "scrolled": true
   },
   "outputs": [],
   "source": [
    "#전처리\n",
    "df_04 = gpd.read_file(current_path+'/input/4.오산시_연령별_거주인구격자(총인구).geojson')\n",
    "df_04 = df_04.fillna(0)\n",
    "df_04 = df_04.rename(columns = {'val':'pop_total_04'})\n",
    "df_04['coordinates'] = df_04['geometry'].apply(multipolygon_to_coordinates)\n",
    "df_04 = multipolygon_to_center(df_04)\n",
    "df_04 = df_04.drop(columns = ['geometry','coordinates'])"
   ]
  },
  {
   "cell_type": "code",
   "execution_count": 65,
   "metadata": {
    "collapsed": true,
    "jupyter": {
     "outputs_hidden": true
    }
   },
   "outputs": [
    {
     "data": {
      "text/html": [
       "<div>\n",
       "<style scoped>\n",
       "    .dataframe tbody tr th:only-of-type {\n",
       "        vertical-align: middle;\n",
       "    }\n",
       "\n",
       "    .dataframe tbody tr th {\n",
       "        vertical-align: top;\n",
       "    }\n",
       "\n",
       "    .dataframe thead th {\n",
       "        text-align: right;\n",
       "    }\n",
       "</style>\n",
       "<table border=\"1\" class=\"dataframe\">\n",
       "  <thead>\n",
       "    <tr style=\"text-align: right;\">\n",
       "      <th></th>\n",
       "      <th>geometry</th>\n",
       "      <th>coord_cent</th>\n",
       "      <th>geo_cent</th>\n",
       "      <th>accident_02</th>\n",
       "      <th>schoolzone_cctv_cnt_09</th>\n",
       "      <th>bump_cnt_18</th>\n",
       "      <th>barrier_23</th>\n",
       "      <th>sign_cnt_16</th>\n",
       "      <th>gid</th>\n",
       "      <th>pop_total_04</th>\n",
       "    </tr>\n",
       "  </thead>\n",
       "  <tbody>\n",
       "    <tr>\n",
       "      <th>0</th>\n",
       "      <td>POLYGON ((127.01673 37.17608, 127.01701 37.176...</td>\n",
       "      <td>[127.01686857026839, 37.17619239284593]</td>\n",
       "      <td>POINT (127.0168685702684 37.17619239284593)</td>\n",
       "      <td>0</td>\n",
       "      <td>0</td>\n",
       "      <td>0</td>\n",
       "      <td>0</td>\n",
       "      <td>0</td>\n",
       "      <td>다사571087</td>\n",
       "      <td>112.0</td>\n",
       "    </tr>\n",
       "    <tr>\n",
       "      <th>1</th>\n",
       "      <td>POLYGON ((127.01701 37.17608, 127.01729 37.176...</td>\n",
       "      <td>[127.01715162080306, 37.17619239284593]</td>\n",
       "      <td>POINT (127.0171516208031 37.17619239284593)</td>\n",
       "      <td>0</td>\n",
       "      <td>0</td>\n",
       "      <td>0</td>\n",
       "      <td>0</td>\n",
       "      <td>0</td>\n",
       "      <td>다사571087</td>\n",
       "      <td>112.0</td>\n",
       "    </tr>\n",
       "  </tbody>\n",
       "</table>\n",
       "</div>"
      ],
      "text/plain": [
       "                                            geometry                               coord_cent                                     geo_cent  accident_02  schoolzone_cctv_cnt_09  bump_cnt_18  barrier_23  sign_cnt_16       gid  pop_total_04\n",
       "0  POLYGON ((127.01673 37.17608, 127.01701 37.176...  [127.01686857026839, 37.17619239284593]  POINT (127.0168685702684 37.17619239284593)            0                       0            0           0            0  다사571087         112.0\n",
       "1  POLYGON ((127.01701 37.17608, 127.01729 37.176...  [127.01715162080306, 37.17619239284593]  POINT (127.0171516208031 37.17619239284593)            0                       0            0           0            0  다사571087         112.0"
      ]
     },
     "execution_count": 65,
     "metadata": {},
     "output_type": "execute_result"
    }
   ],
   "source": [
    "#merge\n",
    "#schoolzone_grid_divide와 df_04 'gid' 변수가 맞는 격자들끼리 합쳐준다.\n",
    "schoolzone_grid_divide = schoolzone_grid_divide.merge(df_04[['gid','pop_total_04']],how = 'left', on = ['gid'])\n",
    "schoolzone_grid_divide.head(2)"
   ]
  },
  {
   "cell_type": "markdown",
   "metadata": {},
   "source": [
    "- pop_child_05: 격자내 유소년 인구수\n",
    "- ratio_child_0405: 격자내 유소년인구수/총인구수 비율"
   ]
  },
  {
   "cell_type": "code",
   "execution_count": 68,
   "metadata": {},
   "outputs": [],
   "source": [
    "#전처리\n",
    "df_05 = gpd.read_file(current_path+'/input/5.오산시_연령별_거주인구격자(유소년).geojson')\n",
    "df_05 = df_05.fillna(0)\n",
    "df_05 = df_05.rename(columns = {'val':'pop_child_05'})\n",
    "df_05['coordinates'] = df_05['geometry'].apply(multipolygon_to_coordinates)\n",
    "df_05 = multipolygon_to_center(df_05)\n",
    "df_05 = df_05.drop(columns = ['geometry','coordinates'])"
   ]
  },
  {
   "cell_type": "code",
   "execution_count": 69,
   "metadata": {},
   "outputs": [],
   "source": [
    "#유소년인구/총인구\n",
    "df_0405 = df_04[['gid','pop_total_04']].merge(df_05[['gid','pop_child_05']], how = 'left', on = ['gid'])\n",
    "for i in range(len(df_0405)):\n",
    "    df_0405['ratio_child_0405'] = df_0405['pop_child_05']/df_0405['pop_total_04']"
   ]
  },
  {
   "cell_type": "code",
   "execution_count": 70,
   "metadata": {},
   "outputs": [
    {
     "data": {
      "text/html": [
       "<div>\n",
       "<style scoped>\n",
       "    .dataframe tbody tr th:only-of-type {\n",
       "        vertical-align: middle;\n",
       "    }\n",
       "\n",
       "    .dataframe tbody tr th {\n",
       "        vertical-align: top;\n",
       "    }\n",
       "\n",
       "    .dataframe thead th {\n",
       "        text-align: right;\n",
       "    }\n",
       "</style>\n",
       "<table border=\"1\" class=\"dataframe\">\n",
       "  <thead>\n",
       "    <tr style=\"text-align: right;\">\n",
       "      <th></th>\n",
       "      <th>geometry</th>\n",
       "      <th>coord_cent</th>\n",
       "      <th>geo_cent</th>\n",
       "      <th>accident_02</th>\n",
       "      <th>schoolzone_cctv_cnt_09</th>\n",
       "      <th>bump_cnt_18</th>\n",
       "      <th>barrier_23</th>\n",
       "      <th>sign_cnt_16</th>\n",
       "      <th>gid</th>\n",
       "      <th>pop_total_04</th>\n",
       "      <th>pop_child_05</th>\n",
       "      <th>ratio_child_0405</th>\n",
       "    </tr>\n",
       "  </thead>\n",
       "  <tbody>\n",
       "    <tr>\n",
       "      <th>0</th>\n",
       "      <td>POLYGON ((127.01673 37.17608, 127.01701 37.176...</td>\n",
       "      <td>[127.01686857026839, 37.17619239284593]</td>\n",
       "      <td>POINT (127.0168685702684 37.17619239284593)</td>\n",
       "      <td>0</td>\n",
       "      <td>0</td>\n",
       "      <td>0</td>\n",
       "      <td>0</td>\n",
       "      <td>0</td>\n",
       "      <td>다사571087</td>\n",
       "      <td>112.0</td>\n",
       "      <td>0.0</td>\n",
       "      <td>0.0</td>\n",
       "    </tr>\n",
       "    <tr>\n",
       "      <th>1</th>\n",
       "      <td>POLYGON ((127.01701 37.17608, 127.01729 37.176...</td>\n",
       "      <td>[127.01715162080306, 37.17619239284593]</td>\n",
       "      <td>POINT (127.0171516208031 37.17619239284593)</td>\n",
       "      <td>0</td>\n",
       "      <td>0</td>\n",
       "      <td>0</td>\n",
       "      <td>0</td>\n",
       "      <td>0</td>\n",
       "      <td>다사571087</td>\n",
       "      <td>112.0</td>\n",
       "      <td>0.0</td>\n",
       "      <td>0.0</td>\n",
       "    </tr>\n",
       "  </tbody>\n",
       "</table>\n",
       "</div>"
      ],
      "text/plain": [
       "                                            geometry                               coord_cent                                     geo_cent  accident_02  schoolzone_cctv_cnt_09  bump_cnt_18  barrier_23  sign_cnt_16       gid  pop_total_04  pop_child_05  ratio_child_0405\n",
       "0  POLYGON ((127.01673 37.17608, 127.01701 37.176...  [127.01686857026839, 37.17619239284593]  POINT (127.0168685702684 37.17619239284593)            0                       0            0           0            0  다사571087         112.0           0.0               0.0\n",
       "1  POLYGON ((127.01701 37.17608, 127.01729 37.176...  [127.01715162080306, 37.17619239284593]  POINT (127.0171516208031 37.17619239284593)            0                       0            0           0            0  다사571087         112.0           0.0               0.0"
      ]
     },
     "execution_count": 70,
     "metadata": {},
     "output_type": "execute_result"
    }
   ],
   "source": [
    "#merge\n",
    "#schoolzone_grid_divide와 df_05 'gid' 변수가 맞는 격자들끼리 합쳐준다.\n",
    "schoolzone_grid_divide = schoolzone_grid_divide.merge(df_05[['gid','pop_child_05']],how = 'left', on = ['gid'])\n",
    "schoolzone_grid_divide = schoolzone_grid_divide.merge(df_0405[['gid','ratio_child_0405']], how = 'left', on = ['gid'])\n",
    "#ratio_child_0405 null값 채우기\n",
    "schoolzone_grid_divide['ratio_child_0405'] = schoolzone_grid_divide['ratio_child_0405'].fillna(0)\n",
    "schoolzone_grid_divide.head(2)"
   ]
  },
  {
   "cell_type": "markdown",
   "metadata": {},
   "source": [
    "- pop_working_06: 격자내 생산가능 인구수"
   ]
  },
  {
   "cell_type": "code",
   "execution_count": 72,
   "metadata": {},
   "outputs": [],
   "source": [
    "df_06 = gpd.read_file(current_path+'/input/6.오산시_연령별_거주인구격자(생산가능인구).geojson')\n",
    "#전처리\n",
    "df_06 = df_06.fillna(0)\n",
    "df_06 = df_06.rename(columns = {'val':'pop_working_06'})\n",
    "df_06['coordinates'] = df_06['geometry'].apply(multipolygon_to_coordinates)\n",
    "df_06 = multipolygon_to_center(df_06)\n",
    "df_06 = df_06.drop(columns = ['geometry','coordinates'])"
   ]
  },
  {
   "cell_type": "code",
   "execution_count": 73,
   "metadata": {
    "collapsed": true,
    "jupyter": {
     "outputs_hidden": true
    }
   },
   "outputs": [
    {
     "data": {
      "text/html": [
       "<div>\n",
       "<style scoped>\n",
       "    .dataframe tbody tr th:only-of-type {\n",
       "        vertical-align: middle;\n",
       "    }\n",
       "\n",
       "    .dataframe tbody tr th {\n",
       "        vertical-align: top;\n",
       "    }\n",
       "\n",
       "    .dataframe thead th {\n",
       "        text-align: right;\n",
       "    }\n",
       "</style>\n",
       "<table border=\"1\" class=\"dataframe\">\n",
       "  <thead>\n",
       "    <tr style=\"text-align: right;\">\n",
       "      <th></th>\n",
       "      <th>geometry</th>\n",
       "      <th>coord_cent</th>\n",
       "      <th>geo_cent</th>\n",
       "      <th>accident_02</th>\n",
       "      <th>schoolzone_cctv_cnt_09</th>\n",
       "      <th>bump_cnt_18</th>\n",
       "      <th>barrier_23</th>\n",
       "      <th>sign_cnt_16</th>\n",
       "      <th>gid</th>\n",
       "      <th>pop_total_04</th>\n",
       "      <th>pop_child_05</th>\n",
       "      <th>ratio_child_0405</th>\n",
       "      <th>pop_working_06</th>\n",
       "    </tr>\n",
       "  </thead>\n",
       "  <tbody>\n",
       "    <tr>\n",
       "      <th>0</th>\n",
       "      <td>POLYGON ((127.01673 37.17608, 127.01701 37.176...</td>\n",
       "      <td>[127.01686857026839, 37.17619239284593]</td>\n",
       "      <td>POINT (127.0168685702684 37.17619239284593)</td>\n",
       "      <td>0</td>\n",
       "      <td>0</td>\n",
       "      <td>0</td>\n",
       "      <td>0</td>\n",
       "      <td>0</td>\n",
       "      <td>다사571087</td>\n",
       "      <td>112.0</td>\n",
       "      <td>0.0</td>\n",
       "      <td>0.0</td>\n",
       "      <td>112.0</td>\n",
       "    </tr>\n",
       "    <tr>\n",
       "      <th>1</th>\n",
       "      <td>POLYGON ((127.01701 37.17608, 127.01729 37.176...</td>\n",
       "      <td>[127.01715162080306, 37.17619239284593]</td>\n",
       "      <td>POINT (127.0171516208031 37.17619239284593)</td>\n",
       "      <td>0</td>\n",
       "      <td>0</td>\n",
       "      <td>0</td>\n",
       "      <td>0</td>\n",
       "      <td>0</td>\n",
       "      <td>다사571087</td>\n",
       "      <td>112.0</td>\n",
       "      <td>0.0</td>\n",
       "      <td>0.0</td>\n",
       "      <td>112.0</td>\n",
       "    </tr>\n",
       "  </tbody>\n",
       "</table>\n",
       "</div>"
      ],
      "text/plain": [
       "                                            geometry                               coord_cent                                     geo_cent  accident_02  schoolzone_cctv_cnt_09  bump_cnt_18  barrier_23  sign_cnt_16       gid  pop_total_04  pop_child_05  ratio_child_0405  pop_working_06\n",
       "0  POLYGON ((127.01673 37.17608, 127.01701 37.176...  [127.01686857026839, 37.17619239284593]  POINT (127.0168685702684 37.17619239284593)            0                       0            0           0            0  다사571087         112.0           0.0               0.0           112.0\n",
       "1  POLYGON ((127.01701 37.17608, 127.01729 37.176...  [127.01715162080306, 37.17619239284593]  POINT (127.0171516208031 37.17619239284593)            0                       0            0           0            0  다사571087         112.0           0.0               0.0           112.0"
      ]
     },
     "execution_count": 73,
     "metadata": {},
     "output_type": "execute_result"
    }
   ],
   "source": [
    "#merge\n",
    "schoolzone_grid_divide = schoolzone_grid_divide.merge(df_06[['gid','pop_working_06']],how = 'left', on = ['gid'])\n",
    "schoolzone_grid_divide.head(2)"
   ]
  },
  {
   "cell_type": "markdown",
   "metadata": {},
   "source": [
    "- crosswalk_cnt_17: 격자내 횡단보도수"
   ]
  },
  {
   "cell_type": "code",
   "execution_count": 74,
   "metadata": {},
   "outputs": [],
   "source": [
    "#전처리\n",
    "df_17 = gpd.read_file(current_path+'/input/17.오산시_횡단보도.geojson')\n",
    "df_17 = gpd.read_file(current_path+'/input/17.오산시_횡단보도.geojson')\n",
    "df_17.columns = ['crosswalk_id_17','geometry']\n",
    "multipolygon_to_center(df_17)\n",
    "df_17['count']=1"
   ]
  },
  {
   "cell_type": "code",
   "execution_count": 75,
   "metadata": {},
   "outputs": [],
   "source": [
    "#merge\n",
    "# df_17 데이터는 point가 격자안에 있는지의 유무로 merge\n",
    "#횡단보도 개수\n",
    "schoolzone_grid_divide['crosswalk_cnt_17'] = 0\n",
    "for j in range(schoolzone_grid_divide['geometry'].shape[0]): #geometry\n",
    "    cwcnt = 0\n",
    "    for i in range(df_17['geo_cent'].shape[0]): #point\n",
    "        pt = df_17['geo_cent'][i]\n",
    "        if pt.within(schoolzone_grid_divide['geometry'][j]):\n",
    "            cwcnt = cwcnt + 1\n",
    "    schoolzone_grid_divide['crosswalk_cnt_17'][j] = cwcnt"
   ]
  },
  {
   "cell_type": "markdown",
   "metadata": {},
   "source": [
    "- trafficlight_cnt_19: 격자내 신호등 수"
   ]
  },
  {
   "cell_type": "code",
   "execution_count": 76,
   "metadata": {},
   "outputs": [],
   "source": [
    "df_19 = gpd.read_file(current_path+'/input/19.오산시_신호등.geojson')\n",
    "#전처리\n",
    "df_19.columns = ['trafficlight_id_19','geometry']\n",
    "df_19['count'] = 1"
   ]
  },
  {
   "cell_type": "code",
   "execution_count": 77,
   "metadata": {},
   "outputs": [],
   "source": [
    "#merge\n",
    "# df_19 데이터는 point가 격자안에 있는지의 유무로 merge\n",
    "#신호등 개수\n",
    "schoolzone_grid_divide['trafficlight_cnt_19'] = 0\n",
    "for j in range(schoolzone_grid_divide['geometry'].shape[0]): #geometry\n",
    "    tlcnt = 0\n",
    "    for i in range(df_19['geometry'].shape[0]): #point\n",
    "        pt = df_19['geometry'][i]\n",
    "        if pt.within(schoolzone_grid_divide['geometry'][j]):\n",
    "            tlcnt = tlcnt + 1\n",
    "    schoolzone_grid_divide['trafficlight_cnt_19'][j] = tlcnt"
   ]
  },
  {
   "cell_type": "markdown",
   "metadata": {},
   "source": [
    "- bus_cnt_22: 격자내 버스 정류장 수"
   ]
  },
  {
   "cell_type": "code",
   "execution_count": 81,
   "metadata": {},
   "outputs": [],
   "source": [
    "df_22 = pd.read_csv(current_path+'/input/22.오산시_버스정류장.csv')\n",
    "#전처리\n",
    "df_22['count'] = 1\n",
    "df_22_bus = []\n",
    "for i in range(len(df_22)):\n",
    "    df_22_bus.append([df_22.loc[i,'count'],Point(df_22.loc[i,'정류장 위치_경도'],df_22.loc[i,'정류장 위치_위도'])])\n",
    "    \n",
    "df_22_bus = pd.DataFrame(df_22_bus)\n",
    "df_22_bus.columns = [\"bus_cnt_22\",\"geometry\"]"
   ]
  },
  {
   "cell_type": "code",
   "execution_count": 82,
   "metadata": {},
   "outputs": [],
   "source": [
    "#merge\n",
    "#df_22 데이터는 point가 격자안에 있는지의 유무로 merge\n",
    "#bus 개수\n",
    "schoolzone_grid_divide['bus_cnt_22'] = 0\n",
    "for j in range(schoolzone_grid_divide['geometry'].shape[0]): #geometry\n",
    "    buscnt = 0\n",
    "    for i in range(df_22_bus['geometry'].shape[0]): #point\n",
    "        pt = df_22_bus['geometry'][i]\n",
    "        if pt.within(schoolzone_grid_divide['geometry'][j]):\n",
    "            buscnt = buscnt + 1\n",
    "    schoolzone_grid_divide['bus_cnt_22'][j] = buscnt"
   ]
  },
  {
   "cell_type": "markdown",
   "metadata": {},
   "source": [
    "- road_maxspeed_23: 격자내 도로 최고속도의 평균\n",
    "- intersection_23: 격자내 교차로 수"
   ]
  },
  {
   "cell_type": "code",
   "execution_count": 84,
   "metadata": {},
   "outputs": [],
   "source": [
    "#전처리\n",
    "#중심점 잡기\n",
    "df_23 = gpd.read_file(current_path+'/input/23.오산시_상세도로망_LV6.geojson')\n",
    "df_23['coordinate'] = 0\n",
    "df_23['coordinate'] = df_23['coordinate'].astype('object')\n",
    "for i in range(len(df_23)):\n",
    "    multiline = df_23['geometry'][i]\n",
    "    multilinelist = line_string_to_coordinates(multiline)\n",
    "    length = np.shape(multilinelist)[0]\n",
    "    x = 0\n",
    "    y = 0\n",
    "    for j in range(length):\n",
    "        x = x + multilinelist[j][0]\n",
    "        y = y + multilinelist[j][1]\n",
    "    df_23['coordinate'][i] = Point(x/length,y/length)\n",
    "    \n",
    "del df_23['geometry']\n",
    "df_23 = df_23.rename(columns = {'coordinate':'geometry'})"
   ]
  },
  {
   "cell_type": "code",
   "execution_count": 85,
   "metadata": {},
   "outputs": [],
   "source": [
    "intersection = df_23[(df_23['link_type']=='4')|(df_23['link_type']=='32')]\n",
    "intersection = intersection[['link_id','geometry']].reset_index()\n",
    "del intersection['index']"
   ]
  },
  {
   "cell_type": "code",
   "execution_count": 87,
   "metadata": {},
   "outputs": [],
   "source": [
    "#df_23 데이터는 point가 격자안에 있는지의 유무로 merge\n",
    "schoolzone_grid_divide['road_maxspeed_23'] = 0\n",
    "count = 0\n",
    "\n",
    "for j in range(schoolzone_grid_divide['geometry'].shape[0]): #geometry\n",
    "    speed = 0\n",
    "    for i in range(df_23['geometry'].shape[0]): #point\n",
    "        pt = df_23['geometry'][i]\n",
    "        if pt.within(schoolzone_grid_divide['geometry'][j]):\n",
    "            count = count +1\n",
    "            speed = speed + float(df_23['max_speed'][i])\n",
    "            \n",
    "    if count != 0:       \n",
    "        speed = speed/count #평균최대속도\n",
    "    \n",
    "    schoolzone_grid_divide['road_maxspeed_23'][j] = speed"
   ]
  },
  {
   "cell_type": "code",
   "execution_count": 88,
   "metadata": {},
   "outputs": [],
   "source": [
    "# df_23 데이터는 point가 격자안에 있는지의 유무로 merge\n",
    "#교차로 수\n",
    "schoolzone_grid_divide['intersection_23'] = 0\n",
    "\n",
    "for j in range(schoolzone_grid_divide['geometry'].shape[0]): #geometry\n",
    "    intersect = 0\n",
    "    for i in range(intersection['geometry'].shape[0]): #point\n",
    "        pt = intersection['geometry'][i]\n",
    "        if pt.within(schoolzone_grid_divide['geometry'][j]):\n",
    "            intersect = intersect + 1\n",
    "\n",
    "    schoolzone_grid_divide['intersection_23'][j] = intersect"
   ]
  },
  {
   "cell_type": "markdown",
   "metadata": {},
   "source": [
    "- building_level_down_27:격자내 건물의 지하층수의 합"
   ]
  },
  {
   "cell_type": "code",
   "execution_count": 90,
   "metadata": {},
   "outputs": [],
   "source": [
    "df_27 = gpd.read_file(current_path+'/input/27.오산시_도로명주소_건물.geojson')\n",
    "#전처리\n",
    "df_27_1 = df_27[['BDTYP_CD','GRO_FLO_CO','UND_FLO_CO','geometry']]\n",
    "df_27_1['geometry'] = df_27_1['geometry'].apply(multipolygon_to_center_coordinates)\n",
    "df_27_1 = df_27_1[(df_27_1['BDTYP_CD']== '03102') | (df_27_1['BDTYP_CD']=='03103') | (df_27_1['BDTYP_CD']=='03104') | (df_27_1['BDTYP_CD']=='16002') | (df_27_1['BDTYP_CD']=='12002')].reset_index()\n",
    "del df_27_1['index']\n",
    "for i in range(len(df_27_1)):\n",
    "    df_27_1['geometry'][i] = Point(df_27_1['geometry'][i][0][0], df_27_1['geometry'][i][0][1])"
   ]
  },
  {
   "cell_type": "code",
   "execution_count": 91,
   "metadata": {},
   "outputs": [],
   "source": [
    "# df_27 데이터는 point가 격자안에 있는지의 유무로 merge\n",
    "#건물 지하층수\n",
    "schoolzone_grid_divide['building_level_down_27'] = 0\n",
    "\n",
    "for j in range(schoolzone_grid_divide['geometry'].shape[0]): #geometry\n",
    "    bdup = 0\n",
    "    bddn = 0\n",
    "    for i in range(df_27_1['geometry'].shape[0]): #point\n",
    "        pt = df_27_1['geometry'][i]\n",
    "        if pt.within(schoolzone_grid_divide['geometry'][j]):\n",
    "            bddn = bddn + df_27_1['UND_FLO_CO'][i]\n",
    "\n",
    "    schoolzone_grid_divide['building_level_down_27'][j] = bddn"
   ]
  },
  {
   "cell_type": "markdown",
   "metadata": {},
   "source": [
    "- sports_cnt_29:격자내 체육시설의 수"
   ]
  },
  {
   "cell_type": "code",
   "execution_count": 93,
   "metadata": {},
   "outputs": [],
   "source": [
    "df_29 = pd.read_csv(current_path+'/input/29.오산시_체육시설현황.csv')\n",
    "#전처리\n",
    "df_29['count'] = 1 \n",
    "df_29_cnt = []\n",
    "for i in range(len(df_29)):\n",
    "    df_29_cnt.append([df_29.loc[i,'count'],Point(df_29.loc[i,'설치위치_경도'],df_29.loc[i,'설치위치_위도'])])\n",
    "df_29_cnt = pd.DataFrame(df_29_cnt)\n",
    "df_29_cnt.columns = ['count','geometry']"
   ]
  },
  {
   "cell_type": "code",
   "execution_count": 95,
   "metadata": {},
   "outputs": [],
   "source": [
    "#merge\n",
    "#df_29 데이터는 point가 격자안에 있는지의 유무로 merge\n",
    "#체육시설개수\n",
    "schoolzone_grid_divide['sports_cnt_29'] = 0\n",
    "for j in range(schoolzone_grid_divide['geometry'].shape[0]): #geometry\n",
    "    spt = 0\n",
    "    for i in range(df_29_cnt['geometry'].shape[0]): #point\n",
    "        pt = df_29_cnt['geometry'][i]\n",
    "        if pt.within(schoolzone_grid_divide['geometry'][j]):\n",
    "            spt = spt + 1\n",
    "    schoolzone_grid_divide['sports_cnt_29'][j] = spt"
   ]
  },
  {
   "cell_type": "markdown",
   "metadata": {},
   "source": [
    "- pop_fluid_810_08: 오전 8시~10시의 격자별 유동인구"
   ]
  },
  {
   "cell_type": "code",
   "execution_count": 97,
   "metadata": {},
   "outputs": [],
   "source": [
    "df_08 = pd.read_csv(current_path+'/input/8.오산시_유동인구(2019).csv')\n",
    "#전처리\n",
    "df_08_810 = df_08[['STD_YM', 'lon','lat','TMST_08','TMST_09','TMST_10']] #등교\n",
    "# df_08_1416 = df_08[['STD_YM', 'lon','lat','TMST_14','TMST_15','TMST_16']] #하교\n",
    "df_08_810['pop'] = df_08_810[['TMST_08','TMST_09','TMST_10']].mean(axis = 1) #오전 8~10시 사이의 유동인구 평균\n",
    "# df_08_1416['pop'] = df_08_1416[['TMST_14','TMST_15','TMST_16']].mean(axis = 1) #오후 14~16시 사이의 유동인구 평균\n",
    "\n",
    "df_08_810 = df_08_810.drop(['TMST_08','TMST_09','TMST_10'], axis = 1) \n",
    "# df_08_1416 = df_08_1416.drop(['TMST_14','TMST_15','TMST_16'], axis = 1)\n",
    "#년월 변수 있는 데이터"
   ]
  },
  {
   "cell_type": "code",
   "execution_count": 98,
   "metadata": {},
   "outputs": [],
   "source": [
    "#2019년 total 평균 유동인구\n",
    "df_08_810_1 = pd.DataFrame(df_08_810.groupby(['lon','lat'])['pop'].mean().reset_index())\n",
    "# df_08_1416_1 = pd.DataFrame(df_08_1416.groupby(['lon','lat'])['pop'].mean().reset_index())"
   ]
  },
  {
   "cell_type": "code",
   "execution_count": 99,
   "metadata": {
    "scrolled": true
   },
   "outputs": [],
   "source": [
    "#오전 8~10시 유동인구\n",
    "df_08_810_fluid = []\n",
    "for i in range(len(df_08_810_1)):\n",
    "    df_08_810_fluid.append([df_08_810_1.loc[i,'pop'],Point(df_08_810_1.loc[i,'lon'],df_08_810_1.loc[i,'lat'])])\n",
    "\n",
    "df_08_810_fluid = pd.DataFrame(df_08_810_fluid)\n",
    "df_08_810_fluid.columns = [\"pop_fluid\", \"geometry\"]"
   ]
  },
  {
   "cell_type": "code",
   "execution_count": 100,
   "metadata": {},
   "outputs": [],
   "source": [
    "# df_08 데이터는 point가 격자안에 있는지의 유무로 merge\n",
    "# pop_fluid_810_08:오전 8~10시 유동인구\n",
    "schoolzone_grid_divide['pop_fluid_810_08'] = 0\n",
    "schoolzone_grid_divide['pop_fluid_810_08'] = schoolzone_grid_divide['pop_fluid_810_08'].astype('object')\n",
    "\n",
    "for j in range(schoolzone_grid_divide['geometry'].shape[0]): #grid polygon\n",
    "    pop810 = []\n",
    "    for i in range(df_08_810_fluid['geometry'].shape[0]): #point\n",
    "        pt = df_08_810_fluid['geometry'][i]\n",
    "        if pt.within(schoolzone_grid_divide['geometry'][j]):\n",
    "            pop810.append(df_08_810_fluid['pop_fluid'][i])\n",
    "            \n",
    "    if len(pop810) != 0:\n",
    "        pop810_mean = statistics.mean(pop810)\n",
    "        schoolzone_grid_divide['pop_fluid_810_08'][j] = pop810_mean\n",
    "    else: \n",
    "        schoolzone_grid_divide['pop_fluid_810_08'][j] = 0\n",
    "\n",
    "schoolzone_grid_divide['pop_fluid_810_08'] = schoolzone_grid_divide['pop_fluid_810_08'].astype('float64')"
   ]
  },
  {
   "cell_type": "markdown",
   "metadata": {},
   "source": [
    "- school_cnt_10: 격자별 초등학교 수"
   ]
  },
  {
   "cell_type": "code",
   "execution_count": 102,
   "metadata": {},
   "outputs": [],
   "source": [
    "df_10 = pd.read_csv(current_path+'/input/10.오산시_학교위치정보.csv')\n",
    "#전처리\n",
    "#학교 종류부터 살펴보기 - 어린이 보호구역은 초등학교만 포함\n",
    "df_10 = df_10.drop(df_10[df_10.학교구분=='고등학교'].index)\n",
    "df_10 = df_10.drop(df_10[df_10.학교구분=='중학교'].index)\n",
    "df_10['학교구분'].unique()\n",
    "df_10['count'] = 1\n",
    "df_10 = df_10.reset_index()\n",
    "del df_10['index']"
   ]
  },
  {
   "cell_type": "code",
   "execution_count": 103,
   "metadata": {},
   "outputs": [],
   "source": [
    "df_10_school = []\n",
    "for i in range(len(df_10)):\n",
    "    df_10_school.append([df_10.loc[i,'count'],Point(df_10.loc[i,'학교위치_경도'],df_10.loc[i,'학교위치_위도'])])\n",
    "\n",
    "df_10_school = pd.DataFrame(df_10_school)\n",
    "df_10_school.columns = [\"school_cnt_10\",\"geometry\"]"
   ]
  },
  {
   "cell_type": "code",
   "execution_count": 104,
   "metadata": {},
   "outputs": [],
   "source": [
    "#merge\n",
    "# df_10 데이터는 point가 격자안에 있는지의 유무로 merge\n",
    "#초등학교 개수\n",
    "schoolzone_grid_divide['school_cnt_10'] = None\n",
    "for j in range(schoolzone_grid_divide['geometry'].shape[0]): #geometry\n",
    "    kg = 0\n",
    "    for i in range(df_10_school['geometry'].shape[0]): #point\n",
    "        pt = df_10_school['geometry'][i]\n",
    "        if pt.within(schoolzone_grid_divide['geometry'][j]):\n",
    "            kg = kg+ 1\n",
    "    schoolzone_grid_divide['school_cnt_10'][j] = kg"
   ]
  },
  {
   "cell_type": "markdown",
   "metadata": {},
   "source": [
    "- conjestion_freq_25: 격자별 혼잡빈도강도"
   ]
  },
  {
   "cell_type": "code",
   "execution_count": 106,
   "metadata": {},
   "outputs": [],
   "source": [
    "df_25 = pd.read_csv(current_path+'/input/25.평일_전일_오산시_혼잡빈도강도_Level6.csv')\n",
    "df_25 = df_25.rename(columns = {'상세도로망_LinkID':'link_id'})\n",
    "#전처리\n",
    "df_25['link_id'] = link_id_change(df_25['link_id'])\n",
    "df_25 = df_25[['link_id','혼잡빈도강도']].groupby(by = ['link_id']).mean().reset_index()\n",
    "df_25['link_id'] = df_25['link_id'].astype('float64')"
   ]
  },
  {
   "cell_type": "code",
   "execution_count": 107,
   "metadata": {},
   "outputs": [],
   "source": [
    "#전처리\n",
    "#df_24에는 지리 관련 변수가 없기때문에 상세도로망 데이터인 df_23과 결합해 지리 변수를 생성한다.\n",
    "#df_23 중심점 잡기\n",
    "df_23 = gpd.read_file(current_path+'/input/23.오산시_상세도로망_LV6.geojson')\n",
    "df_23['coordinate'] = 0\n",
    "df_23['coordinate'] = df_23['coordinate'].astype('object')\n",
    "for i in range(len(df_23)):\n",
    "    multiline = df_23['geometry'][i]\n",
    "    multilinelist = line_string_to_coordinates(multiline)\n",
    "    length = np.shape(multilinelist)[0]\n",
    "    x = 0\n",
    "    y = 0\n",
    "    for j in range(length):\n",
    "        x = x + multilinelist[j][0]\n",
    "        y = y + multilinelist[j][1]\n",
    "    df_23['coordinate'][i] = Point(x/length,y/length)\n",
    "    \n",
    "del df_23['geometry']\n",
    "df_23 = df_23.rename(columns = {'coordinate':'geometry'})"
   ]
  },
  {
   "cell_type": "code",
   "execution_count": 108,
   "metadata": {},
   "outputs": [
    {
     "data": {
      "text/html": [
       "<div>\n",
       "<style scoped>\n",
       "    .dataframe tbody tr th:only-of-type {\n",
       "        vertical-align: middle;\n",
       "    }\n",
       "\n",
       "    .dataframe tbody tr th {\n",
       "        vertical-align: top;\n",
       "    }\n",
       "\n",
       "    .dataframe thead th {\n",
       "        text-align: right;\n",
       "    }\n",
       "</style>\n",
       "<table border=\"1\" class=\"dataframe\">\n",
       "  <thead>\n",
       "    <tr style=\"text-align: right;\">\n",
       "      <th></th>\n",
       "      <th>link_id</th>\n",
       "      <th>geometry</th>\n",
       "    </tr>\n",
       "  </thead>\n",
       "  <tbody>\n",
       "    <tr>\n",
       "      <th>0</th>\n",
       "      <td>478344684.0</td>\n",
       "      <td>POINT (126.99941 37.17491)</td>\n",
       "    </tr>\n",
       "    <tr>\n",
       "      <th>1</th>\n",
       "      <td>478344686.0</td>\n",
       "      <td>POINT (126.99850 37.17640)</td>\n",
       "    </tr>\n",
       "  </tbody>\n",
       "</table>\n",
       "</div>"
      ],
      "text/plain": [
       "       link_id                    geometry\n",
       "0  478344684.0  POINT (126.99941 37.17491)\n",
       "1  478344686.0  POINT (126.99850 37.17640)"
      ]
     },
     "execution_count": 108,
     "metadata": {},
     "output_type": "execute_result"
    }
   ],
   "source": [
    "#df_23의 link_id와 geometry 변수만 가져와 df_24, 25, 26에 결합한다.\n",
    "df_23_mini = df_23[['link_id','geometry']]\n",
    "df_23_mini['link_id'] = df_23_mini['link_id'].astype('float64')\n",
    "df_23_mini.head(2)"
   ]
  },
  {
   "cell_type": "code",
   "execution_count": 109,
   "metadata": {},
   "outputs": [],
   "source": [
    "#df_23_mini와 df_25를 merge해 df_25에 geometry 변수를 준다\n",
    "df_25 = df_25.merge(df_23_mini, how = 'left', on = 'link_id')"
   ]
  },
  {
   "cell_type": "code",
   "execution_count": 110,
   "metadata": {},
   "outputs": [],
   "source": [
    "#merge\n",
    "# df_25 데이터는 point가 격자안에 있는지의 유무로 merge\n",
    "#혼잡빈도 강도\n",
    "schoolzone_grid_divide['conjestion_freq_25'] = 0\n",
    "\n",
    "for j in range(schoolzone_grid_divide['geometry'].shape[0]): #geometry\n",
    "    freq = 0\n",
    "    cnt = 0\n",
    "    for i in range(df_25['geometry'].shape[0]): #point\n",
    "        pt = df_25['geometry'][i]\n",
    "        if pt.within(schoolzone_grid_divide['geometry'][j]):\n",
    "            cnt = cnt + 1\n",
    "            freq = freq + df_25['혼잡빈도강도'][i]\n",
    "                    \n",
    "    if cnt != 0:\n",
    "        freq = freq/cnt       #혼잡빈도강도 평균 들어감 \n",
    "        schoolzone_grid_divide['conjestion_freq_25'][j] = freq\n",
    "    else:\n",
    "        schoolzone_grid_divide['conjestion_freq_25'][j] = 0"
   ]
  },
  {
   "cell_type": "code",
   "execution_count": 111,
   "metadata": {},
   "outputs": [],
   "source": [
    "#만들어둔 schoolzone_grid_divide 데이터를 엑셀로 저장\n",
    "schoolzone_grid_divide.to_excel(current_path+'/input/schoolzone_grid_divide.xlsx') "
   ]
  },
  {
   "cell_type": "markdown",
   "metadata": {
    "id": "qrFFwfIeJzPr"
   },
   "source": [
    "# 8. 과제2 - 분석"
   ]
  },
  {
   "cell_type": "markdown",
   "metadata": {},
   "source": [
    "## 과제2. 기존 어린이 보호구역 중 교통안전시설물 우선 설치 지역 20개소를 제시하고 각 교통안전시설물의 위치 제시\n",
    "### 8-1) 격자별 교통사고 위험지수 생성\n",
    "### -> 8-1_code_R_제출용_final 파일 참고\n",
    "### 8-2) 최적화 모델 MCLP와 시뮬레이션을 사용하여 각 교통시설물의 최적개수와 위치 설정\n",
    "### -> 8-2~9_code_python_제출용_final 파일 참고 "
   ]
  },
  {
   "cell_type": "code",
   "execution_count": null,
   "metadata": {},
   "outputs": [],
   "source": []
  }
 ],
 "metadata": {
  "kernelspec": {
   "display_name": "Python 3",
   "language": "python",
   "name": "python3"
  },
  "language_info": {
   "codemirror_mode": {
    "name": "ipython",
    "version": 3
   },
   "file_extension": ".py",
   "mimetype": "text/x-python",
   "name": "python",
   "nbconvert_exporter": "python",
   "pygments_lexer": "ipython3",
   "version": "3.8.3"
  }
 },
 "nbformat": 4,
 "nbformat_minor": 5
}
